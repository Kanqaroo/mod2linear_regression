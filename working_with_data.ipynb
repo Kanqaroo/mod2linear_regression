{
 "cells": [
  {
   "cell_type": "code",
   "execution_count": 1,
   "metadata": {},
   "outputs": [],
   "source": [
    "import pandas as pd\n",
    "import seaborn as sns\n",
    "import numpy as np\n",
    "import matplotlib.pyplot as plt\n",
    "from sklearn.model_selection import train_test_split\n",
    "from sklearn.linear_model import LinearRegression\n",
    "from sklearn.preprocessing import StandardScaler\n",
    "from sklearn import metrics\n",
    "import statsmodels.api as sm\n",
    "from statsmodels.formula.api import ols\n",
    "import random"
   ]
  },
  {
   "cell_type": "code",
   "execution_count": 2,
   "metadata": {},
   "outputs": [],
   "source": [
    "#import csv and saving to dataframe called diamonds_no_color\n",
    "diamonds_no_color = pd.read_csv(\"diamonds_no_color.csv\")"
   ]
  },
  {
   "cell_type": "code",
   "execution_count": 3,
   "metadata": {
    "scrolled": true
   },
   "outputs": [
    {
     "data": {
      "text/html": [
       "<div>\n",
       "<style scoped>\n",
       "    .dataframe tbody tr th:only-of-type {\n",
       "        vertical-align: middle;\n",
       "    }\n",
       "\n",
       "    .dataframe tbody tr th {\n",
       "        vertical-align: top;\n",
       "    }\n",
       "\n",
       "    .dataframe thead th {\n",
       "        text-align: right;\n",
       "    }\n",
       "</style>\n",
       "<table border=\"1\" class=\"dataframe\">\n",
       "  <thead>\n",
       "    <tr style=\"text-align: right;\">\n",
       "      <th></th>\n",
       "      <th>shape</th>\n",
       "      <th>carat</th>\n",
       "      <th>color</th>\n",
       "      <th>clarity</th>\n",
       "      <th>cut</th>\n",
       "      <th>authentication</th>\n",
       "      <th>ship date</th>\n",
       "      <th>price</th>\n",
       "      <th>natural</th>\n",
       "    </tr>\n",
       "  </thead>\n",
       "  <tbody>\n",
       "    <tr>\n",
       "      <th>0</th>\n",
       "      <td>Round</td>\n",
       "      <td>0.30</td>\n",
       "      <td>K</td>\n",
       "      <td>I1</td>\n",
       "      <td>Very Good</td>\n",
       "      <td>GIA</td>\n",
       "      <td>43976</td>\n",
       "      <td>270</td>\n",
       "      <td>Natural</td>\n",
       "    </tr>\n",
       "    <tr>\n",
       "      <th>1</th>\n",
       "      <td>Round</td>\n",
       "      <td>0.30</td>\n",
       "      <td>H</td>\n",
       "      <td>I1</td>\n",
       "      <td>Good</td>\n",
       "      <td>GIA</td>\n",
       "      <td>43976</td>\n",
       "      <td>270</td>\n",
       "      <td>Natural</td>\n",
       "    </tr>\n",
       "    <tr>\n",
       "      <th>2</th>\n",
       "      <td>Round</td>\n",
       "      <td>0.30</td>\n",
       "      <td>K</td>\n",
       "      <td>SI2</td>\n",
       "      <td>Excellent</td>\n",
       "      <td>GIA</td>\n",
       "      <td>43976</td>\n",
       "      <td>280</td>\n",
       "      <td>Natural</td>\n",
       "    </tr>\n",
       "    <tr>\n",
       "      <th>3</th>\n",
       "      <td>Round</td>\n",
       "      <td>0.30</td>\n",
       "      <td>I</td>\n",
       "      <td>SI2</td>\n",
       "      <td>Excellent</td>\n",
       "      <td>GIA</td>\n",
       "      <td>43976</td>\n",
       "      <td>280</td>\n",
       "      <td>Natural</td>\n",
       "    </tr>\n",
       "    <tr>\n",
       "      <th>4</th>\n",
       "      <td>Round</td>\n",
       "      <td>0.41</td>\n",
       "      <td>K</td>\n",
       "      <td>I1</td>\n",
       "      <td>Good</td>\n",
       "      <td>GIA</td>\n",
       "      <td>43972</td>\n",
       "      <td>280</td>\n",
       "      <td>Natural</td>\n",
       "    </tr>\n",
       "  </tbody>\n",
       "</table>\n",
       "</div>"
      ],
      "text/plain": [
       "   shape  carat color clarity        cut authentication  ship date  price  \\\n",
       "0  Round   0.30     K      I1  Very Good            GIA      43976    270   \n",
       "1  Round   0.30     H      I1       Good            GIA      43976    270   \n",
       "2  Round   0.30     K     SI2  Excellent            GIA      43976    280   \n",
       "3  Round   0.30     I     SI2  Excellent            GIA      43976    280   \n",
       "4  Round   0.41     K      I1       Good            GIA      43972    280   \n",
       "\n",
       "   natural  \n",
       "0  Natural  \n",
       "1  Natural  \n",
       "2  Natural  \n",
       "3  Natural  \n",
       "4  Natural  "
      ]
     },
     "execution_count": 3,
     "metadata": {},
     "output_type": "execute_result"
    }
   ],
   "source": [
    "#evaluating starting data\n",
    "diamonds_no_color.head()"
   ]
  },
  {
   "cell_type": "markdown",
   "metadata": {},
   "source": [
    "### Cleaning data / Reforming data"
   ]
  },
  {
   "cell_type": "code",
   "execution_count": 4,
   "metadata": {},
   "outputs": [],
   "source": [
    "#getting rid of unsed ship_date column\n",
    "diamonds_no_color = diamonds_no_color.drop([\"ship date\"],axis=1)"
   ]
  },
  {
   "cell_type": "code",
   "execution_count": 5,
   "metadata": {},
   "outputs": [],
   "source": [
    "#adding column of price log\n",
    "diamonds_no_color['price_log'] = np.log(diamonds_no_color['price'])"
   ]
  },
  {
   "cell_type": "code",
   "execution_count": 6,
   "metadata": {
    "scrolled": true
   },
   "outputs": [],
   "source": [
    "#lowercase all my variables // leaving the integers untouched\n",
    "diamonds_no_color = diamonds_no_color.applymap(lambda s:s.lower() if type(s) == str else s)"
   ]
  },
  {
   "cell_type": "code",
   "execution_count": 7,
   "metadata": {
    "scrolled": false
   },
   "outputs": [
    {
     "data": {
      "image/png": "[encoded data removed]",
      "text/plain": [
       "<Figure size 720x720 with 1 Axes>"
      ]
     },
     "metadata": {
      "needs_background": "light"
     },
     "output_type": "display_data"
    }
   ],
   "source": [
    "#seeing which shape is most expensive\n",
    "f, ax1 = plt.subplots(figsize=(10, 10))\n",
    "plt.xticks(rotation=330)\n",
    "ax1 = sns.barplot(x='shape',y='price',data=diamonds_no_color)"
   ]
  },
  {
   "cell_type": "code",
   "execution_count": 8,
   "metadata": {
    "scrolled": true
   },
   "outputs": [
    {
     "data": {
      "text/plain": [
       "<matplotlib.axes._subplots.AxesSubplot at 0x1c9fae343c8>"
      ]
     },
     "execution_count": 8,
     "metadata": {},
     "output_type": "execute_result"
    },
    {
     "data": {
      "image/png": "[encoded data removed]",
      "text/plain": [
       "<Figure size 432x288 with 1 Axes>"
      ]
     },
     "metadata": {
      "needs_background": "light"
     },
     "output_type": "display_data"
    }
   ],
   "source": [
    "#data plot of pricing\n",
    "sns.distplot(diamonds_no_color.price)"
   ]
  },
  {
   "cell_type": "code",
   "execution_count": 9,
   "metadata": {},
   "outputs": [
    {
     "data": {
      "text/plain": [
       "<matplotlib.axes._subplots.AxesSubplot at 0x1c9face1608>"
      ]
     },
     "execution_count": 9,
     "metadata": {},
     "output_type": "execute_result"
    },
    {
     "data": {
      "image/png": "[encoded data removed]",
      "text/plain": [
       "<Figure size 432x288 with 1 Axes>"
      ]
     },
     "metadata": {
      "needs_background": "light"
     },
     "output_type": "display_data"
    }
   ],
   "source": [
    "#data plot of pricing (log)\n",
    "sns.distplot(diamonds_no_color.price_log)"
   ]
  },
  {
   "cell_type": "code",
   "execution_count": 10,
   "metadata": {},
   "outputs": [
    {
     "data": {
      "text/plain": [
       "count     7521.000000\n",
       "mean      2863.097992\n",
       "std       6886.059480\n",
       "min        210.000000\n",
       "25%        630.000000\n",
       "50%       1000.000000\n",
       "75%       1940.000000\n",
       "max      50140.000000\n",
       "Name: price, dtype: float64"
      ]
     },
     "execution_count": 10,
     "metadata": {},
     "output_type": "execute_result"
    }
   ],
   "source": [
    "#check the outliers and any crazy values for pricing\n",
    "diamonds_no_color.price.describe()"
   ]
  },
  {
   "cell_type": "code",
   "execution_count": 11,
   "metadata": {},
   "outputs": [],
   "source": [
    "# oridinal values that we need to change to integers\n",
    "# color\n",
    "# clarity\n",
    "# cut\n",
    "# Authentication\n",
    "# natural"
   ]
  },
  {
   "cell_type": "code",
   "execution_count": 12,
   "metadata": {
    "scrolled": true
   },
   "outputs": [
    {
     "data": {
      "text/plain": [
       "e    1963\n",
       "d    1247\n",
       "f    1087\n",
       "g     840\n",
       "i     746\n",
       "h     618\n",
       "j     551\n",
       "k     322\n",
       "l      75\n",
       "m      72\n",
       "Name: color, dtype: int64"
      ]
     },
     "execution_count": 12,
     "metadata": {},
     "output_type": "execute_result"
    }
   ],
   "source": [
    "#checking color values\n",
    "diamonds_no_color.color.value_counts()"
   ]
  },
  {
   "cell_type": "code",
   "execution_count": 13,
   "metadata": {},
   "outputs": [
    {
     "data": {
      "text/plain": [
       "vs2     1642\n",
       "si1     1637\n",
       "vs1     1525\n",
       "si2     1072\n",
       "vvs2     679\n",
       "vvs1     502\n",
       "i1       379\n",
       "if        85\n",
       "Name: clarity, dtype: int64"
      ]
     },
     "execution_count": 13,
     "metadata": {},
     "output_type": "execute_result"
    }
   ],
   "source": [
    "#checking clarity values\n",
    "diamonds_no_color.clarity.value_counts()"
   ]
  },
  {
   "cell_type": "code",
   "execution_count": 14,
   "metadata": {
    "scrolled": true
   },
   "outputs": [
    {
     "data": {
      "text/plain": [
       "gia    5346\n",
       "igi    2114\n",
       "ags      42\n",
       "gsi      19\n",
       "Name: authentication, dtype: int64"
      ]
     },
     "execution_count": 14,
     "metadata": {},
     "output_type": "execute_result"
    }
   ],
   "source": [
    "#checking authentication values\n",
    "diamonds_no_color.authentication.value_counts()"
   ]
  },
  {
   "cell_type": "code",
   "execution_count": 15,
   "metadata": {
    "scrolled": true
   },
   "outputs": [
    {
     "data": {
      "text/plain": [
       "natural        5467\n",
       "lab_created    2054\n",
       "Name: natural, dtype: int64"
      ]
     },
     "execution_count": 15,
     "metadata": {},
     "output_type": "execute_result"
    }
   ],
   "source": [
    "#checking natural values\n",
    "diamonds_no_color.natural.value_counts()"
   ]
  },
  {
   "cell_type": "code",
   "execution_count": 16,
   "metadata": {
    "scrolled": true
   },
   "outputs": [
    {
     "data": {
      "text/plain": [
       "-              4280\n",
       "excellent      1248\n",
       "very good       881\n",
       "ideal           846\n",
       "good            219\n",
       "true hearts      47\n",
       "Name: cut, dtype: int64"
      ]
     },
     "execution_count": 16,
     "metadata": {},
     "output_type": "execute_result"
    }
   ],
   "source": [
    "#checking color values\n",
    "diamonds_no_color.cut.value_counts()"
   ]
  },
  {
   "cell_type": "code",
   "execution_count": 17,
   "metadata": {
    "scrolled": true
   },
   "outputs": [],
   "source": [
    "#rearranging value in color/shape so we can work with it properly\n",
    "diamonds_no_color.cut = diamonds_no_color.cut.replace([\"-\",\"very good\",\"true hearts\"],['unknown','very_good','true_hearts'])\n",
    "diamonds_no_color['shape'] = diamonds_no_color['shape'].replace([\"cushion modified\"],[\"cushion_modified\"])"
   ]
  },
  {
   "cell_type": "code",
   "execution_count": 18,
   "metadata": {},
   "outputs": [],
   "source": [
    "#settings all ordinal values for each variable within specificed columns\n",
    "diamond_cut_quality = {'true_hearts':50,\n",
    "                       'excellent':40,\n",
    "                       'ideal':30,\n",
    "                       'very_good':20,\n",
    "                       'good':10,\n",
    "                       'unknown':0}\n",
    "\n",
    "diamond_clear_color = {'d':100,\n",
    "                 'e':90,\n",
    "                 'f':80,\n",
    "                 'g':70,\n",
    "                 'h':60,\n",
    "                 'i':50,\n",
    "                 'j':40,\n",
    "                 'k':30,\n",
    "                 'l':20,\n",
    "                 'm':10}\n",
    "\n",
    "\n",
    "diamond_clarity = {'if':80,\n",
    "                   'vvs1':70,\n",
    "                   'vvs2':60,\n",
    "                   'vs1':50,\n",
    "                   'vs2':40,\n",
    "                   'si1':30,\n",
    "                   'si2':20,\n",
    "                   'i1':10}\n",
    "diamond_authentication_grade = {'gia':50,\n",
    "                         'ags':40,\n",
    "                         'igi':30,\n",
    "                         'gsi':20}\n",
    "diamond_making_process = {'natural':20,\n",
    "                         'lab_created':10}"
   ]
  },
  {
   "cell_type": "code",
   "execution_count": 19,
   "metadata": {},
   "outputs": [],
   "source": [
    "#mapping the changed ordinal vales to the specific columns\n",
    "diamonds_no_color.cut = diamonds_no_color.cut.map(diamond_cut_quality);\n",
    "diamonds_no_color.color = diamonds_no_color.color.map(diamond_clear_color);\n",
    "diamonds_no_color.clarity = diamonds_no_color.clarity.map(diamond_clarity);\n",
    "diamonds_no_color.authentication = diamonds_no_color.authentication.map(diamond_authentication_grade);\n",
    "diamonds_no_color.natural = diamonds_no_color.natural.map(diamond_making_process);"
   ]
  },
  {
   "cell_type": "code",
   "execution_count": 20,
   "metadata": {},
   "outputs": [],
   "source": [
    "#creating dummy variables for shape\n",
    "diamonds_no_color = pd.get_dummies(diamonds_no_color, columns = ['shape'], drop_first=True)"
   ]
  },
  {
   "cell_type": "code",
   "execution_count": 21,
   "metadata": {
    "scrolled": true
   },
   "outputs": [
    {
     "data": {
      "text/plain": [
       "Index(['carat', 'color', 'clarity', 'cut', 'authentication', 'price',\n",
       "       'natural', 'price_log', 'shape_cushion', 'shape_cushion_modified',\n",
       "       'shape_emerald', 'shape_heart', 'shape_marquise', 'shape_oval',\n",
       "       'shape_pear', 'shape_princess', 'shape_radiant', 'shape_radient',\n",
       "       'shape_round'],\n",
       "      dtype='object')"
      ]
     },
     "execution_count": 21,
     "metadata": {},
     "output_type": "execute_result"
    }
   ],
   "source": [
    "diamonds_no_color.columns"
   ]
  },
  {
   "cell_type": "markdown",
   "metadata": {},
   "source": [
    "### 4 C of diamonds\n",
    "### price"
   ]
  },
  {
   "cell_type": "code",
   "execution_count": 23,
   "metadata": {
    "scrolled": false
   },
   "outputs": [
    {
     "data": {
      "text/html": [
       "<table class=\"simpletable\">\n",
       "<caption>OLS Regression Results</caption>\n",
       "<tr>\n",
       "  <th>Dep. Variable:</th>          <td>price</td>      <th>  R-squared:         </th> <td>   0.820</td> \n",
       "</tr>\n",
       "<tr>\n",
       "  <th>Model:</th>                   <td>OLS</td>       <th>  Adj. R-squared:    </th> <td>   0.820</td> \n",
       "</tr>\n",
       "<tr>\n",
       "  <th>Method:</th>             <td>Least Squares</td>  <th>  F-statistic:       </th> <td>   8562.</td> \n",
       "</tr>\n",
       "<tr>\n",
       "  <th>Date:</th>             <td>Fri, 08 May 2020</td> <th>  Prob (F-statistic):</th>  <td>  0.00</td>  \n",
       "</tr>\n",
       "<tr>\n",
       "  <th>Time:</th>                 <td>09:01:44</td>     <th>  Log-Likelihood:    </th> <td> -70687.</td> \n",
       "</tr>\n",
       "<tr>\n",
       "  <th>No. Observations:</th>      <td>  7521</td>      <th>  AIC:               </th> <td>1.414e+05</td>\n",
       "</tr>\n",
       "<tr>\n",
       "  <th>Df Residuals:</th>          <td>  7516</td>      <th>  BIC:               </th> <td>1.414e+05</td>\n",
       "</tr>\n",
       "<tr>\n",
       "  <th>Df Model:</th>              <td>     4</td>      <th>                     </th>     <td> </td>    \n",
       "</tr>\n",
       "<tr>\n",
       "  <th>Covariance Type:</th>      <td>nonrobust</td>    <th>                     </th>     <td> </td>    \n",
       "</tr>\n",
       "</table>\n",
       "<table class=\"simpletable\">\n",
       "<tr>\n",
       "      <td></td>         <th>coef</th>     <th>std err</th>      <th>t</th>      <th>P>|t|</th>  <th>[0.025</th>    <th>0.975]</th>  \n",
       "</tr>\n",
       "<tr>\n",
       "  <th>Intercept</th> <td>-7764.0746</td> <td>  155.687</td> <td>  -49.870</td> <td> 0.000</td> <td>-8069.265</td> <td>-7458.884</td>\n",
       "</tr>\n",
       "<tr>\n",
       "  <th>carat</th>     <td>  1.05e+04</td> <td>   60.239</td> <td>  174.371</td> <td> 0.000</td> <td> 1.04e+04</td> <td> 1.06e+04</td>\n",
       "</tr>\n",
       "<tr>\n",
       "  <th>color</th>     <td>    9.6039</td> <td>    1.549</td> <td>    6.201</td> <td> 0.000</td> <td>    6.568</td> <td>   12.640</td>\n",
       "</tr>\n",
       "<tr>\n",
       "  <th>clarity</th>   <td>   29.6694</td> <td>    2.099</td> <td>   14.132</td> <td> 0.000</td> <td>   25.554</td> <td>   33.785</td>\n",
       "</tr>\n",
       "<tr>\n",
       "  <th>cut</th>       <td>   73.7279</td> <td>    2.143</td> <td>   34.398</td> <td> 0.000</td> <td>   69.526</td> <td>   77.930</td>\n",
       "</tr>\n",
       "</table>\n",
       "<table class=\"simpletable\">\n",
       "<tr>\n",
       "  <th>Omnibus:</th>       <td>4000.741</td> <th>  Durbin-Watson:     </th> <td>   0.508</td> \n",
       "</tr>\n",
       "<tr>\n",
       "  <th>Prob(Omnibus):</th>  <td> 0.000</td>  <th>  Jarque-Bera (JB):  </th> <td>98516.066</td>\n",
       "</tr>\n",
       "<tr>\n",
       "  <th>Skew:</th>           <td> 2.038</td>  <th>  Prob(JB):          </th> <td>    0.00</td> \n",
       "</tr>\n",
       "<tr>\n",
       "  <th>Kurtosis:</th>       <td>20.256</td>  <th>  Cond. No.          </th> <td>    406.</td> \n",
       "</tr>\n",
       "</table><br/><br/>Warnings:<br/>[1] Standard Errors assume that the covariance matrix of the errors is correctly specified."
      ],
      "text/plain": [
       "<class 'statsmodels.iolib.summary.Summary'>\n",
       "\"\"\"\n",
       "                            OLS Regression Results                            \n",
       "==============================================================================\n",
       "Dep. Variable:                  price   R-squared:                       0.820\n",
       "Model:                            OLS   Adj. R-squared:                  0.820\n",
       "Method:                 Least Squares   F-statistic:                     8562.\n",
       "Date:                Fri, 08 May 2020   Prob (F-statistic):               0.00\n",
       "Time:                        09:01:44   Log-Likelihood:                -70687.\n",
       "No. Observations:                7521   AIC:                         1.414e+05\n",
       "Df Residuals:                    7516   BIC:                         1.414e+05\n",
       "Df Model:                           4                                         \n",
       "Covariance Type:            nonrobust                                         \n",
       "==============================================================================\n",
       "                 coef    std err          t      P>|t|      [0.025      0.975]\n",
       "------------------------------------------------------------------------------\n",
       "Intercept  -7764.0746    155.687    -49.870      0.000   -8069.265   -7458.884\n",
       "carat        1.05e+04     60.239    174.371      0.000    1.04e+04    1.06e+04\n",
       "color          9.6039      1.549      6.201      0.000       6.568      12.640\n",
       "clarity       29.6694      2.099     14.132      0.000      25.554      33.785\n",
       "cut           73.7279      2.143     34.398      0.000      69.526      77.930\n",
       "==============================================================================\n",
       "Omnibus:                     4000.741   Durbin-Watson:                   0.508\n",
       "Prob(Omnibus):                  0.000   Jarque-Bera (JB):            98516.066\n",
       "Skew:                           2.038   Prob(JB):                         0.00\n",
       "Kurtosis:                      20.256   Cond. No.                         406.\n",
       "==============================================================================\n",
       "\n",
       "Warnings:\n",
       "[1] Standard Errors assume that the covariance matrix of the errors is correctly specified.\n",
       "\"\"\""
      ]
     },
     "execution_count": 23,
     "metadata": {},
     "output_type": "execute_result"
    }
   ],
   "source": [
    "#polynominal features\n",
    "#OLS Model of the 4C of diamonds compared to price\n",
    "ols_model1 = ols(formula='price~carat+color+clarity+cut', data=diamonds_no_color).fit()\n",
    "ols_model1.summary()"
   ]
  },
  {
   "cell_type": "markdown",
   "metadata": {},
   "source": [
    "### Natural\n",
    "### authentication"
   ]
  },
  {
   "cell_type": "code",
   "execution_count": 24,
   "metadata": {},
   "outputs": [
    {
     "data": {
      "text/html": [
       "<table class=\"simpletable\">\n",
       "<caption>OLS Regression Results</caption>\n",
       "<tr>\n",
       "  <th>Dep. Variable:</th>         <td>natural</td>     <th>  R-squared:         </th> <td>   0.940</td> \n",
       "</tr>\n",
       "<tr>\n",
       "  <th>Model:</th>                   <td>OLS</td>       <th>  Adj. R-squared:    </th> <td>   0.940</td> \n",
       "</tr>\n",
       "<tr>\n",
       "  <th>Method:</th>             <td>Least Squares</td>  <th>  F-statistic:       </th> <td>1.182e+05</td>\n",
       "</tr>\n",
       "<tr>\n",
       "  <th>Date:</th>             <td>Fri, 08 May 2020</td> <th>  Prob (F-statistic):</th>  <td>  0.00</td>  \n",
       "</tr>\n",
       "<tr>\n",
       "  <th>Time:</th>                 <td>09:01:45</td>     <th>  Log-Likelihood:    </th> <td> -11317.</td> \n",
       "</tr>\n",
       "<tr>\n",
       "  <th>No. Observations:</th>      <td>  7521</td>      <th>  AIC:               </th> <td>2.264e+04</td>\n",
       "</tr>\n",
       "<tr>\n",
       "  <th>Df Residuals:</th>          <td>  7519</td>      <th>  BIC:               </th> <td>2.265e+04</td>\n",
       "</tr>\n",
       "<tr>\n",
       "  <th>Df Model:</th>              <td>     1</td>      <th>                     </th>     <td> </td>    \n",
       "</tr>\n",
       "<tr>\n",
       "  <th>Covariance Type:</th>      <td>nonrobust</td>    <th>                     </th>     <td> </td>    \n",
       "</tr>\n",
       "</table>\n",
       "<table class=\"simpletable\">\n",
       "<tr>\n",
       "         <td></td>           <th>coef</th>     <th>std err</th>      <th>t</th>      <th>P>|t|</th>  <th>[0.025</th>    <th>0.975]</th>  \n",
       "</tr>\n",
       "<tr>\n",
       "  <th>Intercept</th>      <td>   -3.8197</td> <td>    0.063</td> <td>  -61.012</td> <td> 0.000</td> <td>   -3.942</td> <td>   -3.697</td>\n",
       "</tr>\n",
       "<tr>\n",
       "  <th>authentication</th> <td>    0.4766</td> <td>    0.001</td> <td>  343.842</td> <td> 0.000</td> <td>    0.474</td> <td>    0.479</td>\n",
       "</tr>\n",
       "</table>\n",
       "<table class=\"simpletable\">\n",
       "<tr>\n",
       "  <th>Omnibus:</th>       <td>9833.484</td> <th>  Durbin-Watson:     </th>  <td>   1.649</td>  \n",
       "</tr>\n",
       "<tr>\n",
       "  <th>Prob(Omnibus):</th>  <td> 0.000</td>  <th>  Jarque-Bera (JB):  </th> <td>1234985.679</td>\n",
       "</tr>\n",
       "<tr>\n",
       "  <th>Skew:</th>           <td> 7.606</td>  <th>  Prob(JB):          </th>  <td>    0.00</td>  \n",
       "</tr>\n",
       "<tr>\n",
       "  <th>Kurtosis:</th>       <td>63.906</td>  <th>  Cond. No.          </th>  <td>    225.</td>  \n",
       "</tr>\n",
       "</table><br/><br/>Warnings:<br/>[1] Standard Errors assume that the covariance matrix of the errors is correctly specified."
      ],
      "text/plain": [
       "<class 'statsmodels.iolib.summary.Summary'>\n",
       "\"\"\"\n",
       "                            OLS Regression Results                            \n",
       "==============================================================================\n",
       "Dep. Variable:                natural   R-squared:                       0.940\n",
       "Model:                            OLS   Adj. R-squared:                  0.940\n",
       "Method:                 Least Squares   F-statistic:                 1.182e+05\n",
       "Date:                Fri, 08 May 2020   Prob (F-statistic):               0.00\n",
       "Time:                        09:01:45   Log-Likelihood:                -11317.\n",
       "No. Observations:                7521   AIC:                         2.264e+04\n",
       "Df Residuals:                    7519   BIC:                         2.265e+04\n",
       "Df Model:                           1                                         \n",
       "Covariance Type:            nonrobust                                         \n",
       "==================================================================================\n",
       "                     coef    std err          t      P>|t|      [0.025      0.975]\n",
       "----------------------------------------------------------------------------------\n",
       "Intercept         -3.8197      0.063    -61.012      0.000      -3.942      -3.697\n",
       "authentication     0.4766      0.001    343.842      0.000       0.474       0.479\n",
       "==============================================================================\n",
       "Omnibus:                     9833.484   Durbin-Watson:                   1.649\n",
       "Prob(Omnibus):                  0.000   Jarque-Bera (JB):          1234985.679\n",
       "Skew:                           7.606   Prob(JB):                         0.00\n",
       "Kurtosis:                      63.906   Cond. No.                         225.\n",
       "==============================================================================\n",
       "\n",
       "Warnings:\n",
       "[1] Standard Errors assume that the covariance matrix of the errors is correctly specified.\n",
       "\"\"\""
      ]
     },
     "execution_count": 24,
     "metadata": {},
     "output_type": "execute_result"
    }
   ],
   "source": [
    "#polynominal features\n",
    "#checking to see if the diamond being authenticated while the diamond being lab-grown or naturally farmed has any correlation to price\n",
    "ols_model2a = ols(formula='natural~authentication', data=diamonds_no_color).fit()\n",
    "ols_model2a.summary()"
   ]
  },
  {
   "cell_type": "markdown",
   "metadata": {},
   "source": [
    "### price\n",
    "### authentication and Natural"
   ]
  },
  {
   "cell_type": "code",
   "execution_count": 25,
   "metadata": {
    "scrolled": false
   },
   "outputs": [
    {
     "data": {
      "text/html": [
       "<table class=\"simpletable\">\n",
       "<caption>OLS Regression Results</caption>\n",
       "<tr>\n",
       "  <th>Dep. Variable:</th>          <td>price</td>      <th>  R-squared:         </th> <td>   0.011</td> \n",
       "</tr>\n",
       "<tr>\n",
       "  <th>Model:</th>                   <td>OLS</td>       <th>  Adj. R-squared:    </th> <td>   0.011</td> \n",
       "</tr>\n",
       "<tr>\n",
       "  <th>Method:</th>             <td>Least Squares</td>  <th>  F-statistic:       </th> <td>   42.49</td> \n",
       "</tr>\n",
       "<tr>\n",
       "  <th>Date:</th>             <td>Fri, 08 May 2020</td> <th>  Prob (F-statistic):</th> <td>4.48e-19</td> \n",
       "</tr>\n",
       "<tr>\n",
       "  <th>Time:</th>                 <td>09:01:48</td>     <th>  Log-Likelihood:    </th> <td> -77094.</td> \n",
       "</tr>\n",
       "<tr>\n",
       "  <th>No. Observations:</th>      <td>  7521</td>      <th>  AIC:               </th> <td>1.542e+05</td>\n",
       "</tr>\n",
       "<tr>\n",
       "  <th>Df Residuals:</th>          <td>  7518</td>      <th>  BIC:               </th> <td>1.542e+05</td>\n",
       "</tr>\n",
       "<tr>\n",
       "  <th>Df Model:</th>              <td>     2</td>      <th>                     </th>     <td> </td>    \n",
       "</tr>\n",
       "<tr>\n",
       "  <th>Covariance Type:</th>      <td>nonrobust</td>    <th>                     </th>     <td> </td>    \n",
       "</tr>\n",
       "</table>\n",
       "<table class=\"simpletable\">\n",
       "<tr>\n",
       "         <td></td>           <th>coef</th>     <th>std err</th>      <th>t</th>      <th>P>|t|</th>  <th>[0.025</th>    <th>0.975]</th>  \n",
       "</tr>\n",
       "<tr>\n",
       "  <th>Intercept</th>      <td> 2337.0606</td> <td>  481.115</td> <td>    4.858</td> <td> 0.000</td> <td> 1393.940</td> <td> 3280.181</td>\n",
       "</tr>\n",
       "<tr>\n",
       "  <th>authentication</th> <td> -180.0815</td> <td>   35.627</td> <td>   -5.055</td> <td> 0.000</td> <td> -249.920</td> <td> -110.243</td>\n",
       "</tr>\n",
       "<tr>\n",
       "  <th>natural</th>        <td>  491.8682</td> <td>   72.480</td> <td>    6.786</td> <td> 0.000</td> <td>  349.787</td> <td>  633.949</td>\n",
       "</tr>\n",
       "</table>\n",
       "<table class=\"simpletable\">\n",
       "<tr>\n",
       "  <th>Omnibus:</th>       <td>6872.746</td> <th>  Durbin-Watson:     </th>  <td>   0.038</td> \n",
       "</tr>\n",
       "<tr>\n",
       "  <th>Prob(Omnibus):</th>  <td> 0.000</td>  <th>  Jarque-Bera (JB):  </th> <td>178948.032</td>\n",
       "</tr>\n",
       "<tr>\n",
       "  <th>Skew:</th>           <td> 4.605</td>  <th>  Prob(JB):          </th>  <td>    0.00</td> \n",
       "</tr>\n",
       "<tr>\n",
       "  <th>Kurtosis:</th>       <td>25.050</td>  <th>  Cond. No.          </th>  <td>    297.</td> \n",
       "</tr>\n",
       "</table><br/><br/>Warnings:<br/>[1] Standard Errors assume that the covariance matrix of the errors is correctly specified."
      ],
      "text/plain": [
       "<class 'statsmodels.iolib.summary.Summary'>\n",
       "\"\"\"\n",
       "                            OLS Regression Results                            \n",
       "==============================================================================\n",
       "Dep. Variable:                  price   R-squared:                       0.011\n",
       "Model:                            OLS   Adj. R-squared:                  0.011\n",
       "Method:                 Least Squares   F-statistic:                     42.49\n",
       "Date:                Fri, 08 May 2020   Prob (F-statistic):           4.48e-19\n",
       "Time:                        09:01:48   Log-Likelihood:                -77094.\n",
       "No. Observations:                7521   AIC:                         1.542e+05\n",
       "Df Residuals:                    7518   BIC:                         1.542e+05\n",
       "Df Model:                           2                                         \n",
       "Covariance Type:            nonrobust                                         \n",
       "==================================================================================\n",
       "                     coef    std err          t      P>|t|      [0.025      0.975]\n",
       "----------------------------------------------------------------------------------\n",
       "Intercept       2337.0606    481.115      4.858      0.000    1393.940    3280.181\n",
       "authentication  -180.0815     35.627     -5.055      0.000    -249.920    -110.243\n",
       "natural          491.8682     72.480      6.786      0.000     349.787     633.949\n",
       "==============================================================================\n",
       "Omnibus:                     6872.746   Durbin-Watson:                   0.038\n",
       "Prob(Omnibus):                  0.000   Jarque-Bera (JB):           178948.032\n",
       "Skew:                           4.605   Prob(JB):                         0.00\n",
       "Kurtosis:                      25.050   Cond. No.                         297.\n",
       "==============================================================================\n",
       "\n",
       "Warnings:\n",
       "[1] Standard Errors assume that the covariance matrix of the errors is correctly specified.\n",
       "\"\"\""
      ]
     },
     "execution_count": 25,
     "metadata": {},
     "output_type": "execute_result"
    }
   ],
   "source": [
    "ols_model2b = ols(formula='price~authentication+natural', data=diamonds_no_color).fit()\n",
    "ols_model2b.summary()"
   ]
  },
  {
   "cell_type": "code",
   "execution_count": 26,
   "metadata": {},
   "outputs": [
    {
     "data": {
      "text/html": [
       "<table class=\"simpletable\">\n",
       "<caption>OLS Regression Results</caption>\n",
       "<tr>\n",
       "  <th>Dep. Variable:</th>          <td>price</td>      <th>  R-squared:         </th> <td>   0.099</td> \n",
       "</tr>\n",
       "<tr>\n",
       "  <th>Model:</th>                   <td>OLS</td>       <th>  Adj. R-squared:    </th> <td>   0.098</td> \n",
       "</tr>\n",
       "<tr>\n",
       "  <th>Method:</th>             <td>Least Squares</td>  <th>  F-statistic:       </th> <td>   75.27</td> \n",
       "</tr>\n",
       "<tr>\n",
       "  <th>Date:</th>             <td>Fri, 08 May 2020</td> <th>  Prob (F-statistic):</th> <td>1.98e-161</td>\n",
       "</tr>\n",
       "<tr>\n",
       "  <th>Time:</th>                 <td>09:01:50</td>     <th>  Log-Likelihood:    </th> <td> -76743.</td> \n",
       "</tr>\n",
       "<tr>\n",
       "  <th>No. Observations:</th>      <td>  7521</td>      <th>  AIC:               </th> <td>1.535e+05</td>\n",
       "</tr>\n",
       "<tr>\n",
       "  <th>Df Residuals:</th>          <td>  7509</td>      <th>  BIC:               </th> <td>1.536e+05</td>\n",
       "</tr>\n",
       "<tr>\n",
       "  <th>Df Model:</th>              <td>    11</td>      <th>                     </th>     <td> </td>    \n",
       "</tr>\n",
       "<tr>\n",
       "  <th>Covariance Type:</th>      <td>nonrobust</td>    <th>                     </th>     <td> </td>    \n",
       "</tr>\n",
       "</table>\n",
       "<table class=\"simpletable\">\n",
       "<tr>\n",
       "             <td></td>               <th>coef</th>     <th>std err</th>      <th>t</th>      <th>P>|t|</th>  <th>[0.025</th>    <th>0.975]</th>  \n",
       "</tr>\n",
       "<tr>\n",
       "  <th>Intercept</th>              <td> 2844.5098</td> <td>  289.594</td> <td>    9.822</td> <td> 0.000</td> <td> 2276.825</td> <td> 3412.195</td>\n",
       "</tr>\n",
       "<tr>\n",
       "  <th>shape_cushion</th>          <td>-1321.8698</td> <td>  652.711</td> <td>   -2.025</td> <td> 0.043</td> <td>-2601.366</td> <td>  -42.373</td>\n",
       "</tr>\n",
       "<tr>\n",
       "  <th>shape_cushion_modified</th> <td> -941.3974</td> <td>  412.007</td> <td>   -2.285</td> <td> 0.022</td> <td>-1749.047</td> <td> -133.748</td>\n",
       "</tr>\n",
       "<tr>\n",
       "  <th>shape_emerald</th>          <td> -241.8577</td> <td>  433.509</td> <td>   -0.558</td> <td> 0.577</td> <td>-1091.657</td> <td>  607.941</td>\n",
       "</tr>\n",
       "<tr>\n",
       "  <th>shape_heart</th>            <td> -878.3739</td> <td>  417.939</td> <td>   -2.102</td> <td> 0.036</td> <td>-1697.652</td> <td>  -59.096</td>\n",
       "</tr>\n",
       "<tr>\n",
       "  <th>shape_marquise</th>         <td>-1652.0483</td> <td>  421.742</td> <td>   -3.917</td> <td> 0.000</td> <td>-2478.781</td> <td> -825.315</td>\n",
       "</tr>\n",
       "<tr>\n",
       "  <th>shape_oval</th>             <td>-1999.9524</td> <td>  361.398</td> <td>   -5.534</td> <td> 0.000</td> <td>-2708.394</td> <td>-1291.511</td>\n",
       "</tr>\n",
       "<tr>\n",
       "  <th>shape_pear</th>             <td>-1847.3250</td> <td>  361.047</td> <td>   -5.117</td> <td> 0.000</td> <td>-2555.077</td> <td>-1139.573</td>\n",
       "</tr>\n",
       "<tr>\n",
       "  <th>shape_princess</th>         <td>-2295.6765</td> <td>  415.897</td> <td>   -5.520</td> <td> 0.000</td> <td>-3110.952</td> <td>-1480.401</td>\n",
       "</tr>\n",
       "<tr>\n",
       "  <th>shape_radiant</th>          <td>-1193.5352</td> <td>  417.709</td> <td>   -2.857</td> <td> 0.004</td> <td>-2012.362</td> <td> -374.709</td>\n",
       "</tr>\n",
       "<tr>\n",
       "  <th>shape_radient</th>          <td> -904.5098</td> <td> 6546.355</td> <td>   -0.138</td> <td> 0.890</td> <td>-1.37e+04</td> <td> 1.19e+04</td>\n",
       "</tr>\n",
       "<tr>\n",
       "  <th>shape_round</th>            <td> 3196.7849</td> <td>  320.569</td> <td>    9.972</td> <td> 0.000</td> <td> 2568.380</td> <td> 3825.190</td>\n",
       "</tr>\n",
       "</table>\n",
       "<table class=\"simpletable\">\n",
       "<tr>\n",
       "  <th>Omnibus:</th>       <td>6356.215</td> <th>  Durbin-Watson:     </th>  <td>   0.036</td> \n",
       "</tr>\n",
       "<tr>\n",
       "  <th>Prob(Omnibus):</th>  <td> 0.000</td>  <th>  Jarque-Bera (JB):  </th> <td>143232.244</td>\n",
       "</tr>\n",
       "<tr>\n",
       "  <th>Skew:</th>           <td> 4.125</td>  <th>  Prob(JB):          </th>  <td>    0.00</td> \n",
       "</tr>\n",
       "<tr>\n",
       "  <th>Kurtosis:</th>       <td>22.723</td>  <th>  Cond. No.          </th>  <td>    93.3</td> \n",
       "</tr>\n",
       "</table><br/><br/>Warnings:<br/>[1] Standard Errors assume that the covariance matrix of the errors is correctly specified."
      ],
      "text/plain": [
       "<class 'statsmodels.iolib.summary.Summary'>\n",
       "\"\"\"\n",
       "                            OLS Regression Results                            \n",
       "==============================================================================\n",
       "Dep. Variable:                  price   R-squared:                       0.099\n",
       "Model:                            OLS   Adj. R-squared:                  0.098\n",
       "Method:                 Least Squares   F-statistic:                     75.27\n",
       "Date:                Fri, 08 May 2020   Prob (F-statistic):          1.98e-161\n",
       "Time:                        09:01:50   Log-Likelihood:                -76743.\n",
       "No. Observations:                7521   AIC:                         1.535e+05\n",
       "Df Residuals:                    7509   BIC:                         1.536e+05\n",
       "Df Model:                          11                                         \n",
       "Covariance Type:            nonrobust                                         \n",
       "==========================================================================================\n",
       "                             coef    std err          t      P>|t|      [0.025      0.975]\n",
       "------------------------------------------------------------------------------------------\n",
       "Intercept               2844.5098    289.594      9.822      0.000    2276.825    3412.195\n",
       "shape_cushion          -1321.8698    652.711     -2.025      0.043   -2601.366     -42.373\n",
       "shape_cushion_modified  -941.3974    412.007     -2.285      0.022   -1749.047    -133.748\n",
       "shape_emerald           -241.8577    433.509     -0.558      0.577   -1091.657     607.941\n",
       "shape_heart             -878.3739    417.939     -2.102      0.036   -1697.652     -59.096\n",
       "shape_marquise         -1652.0483    421.742     -3.917      0.000   -2478.781    -825.315\n",
       "shape_oval             -1999.9524    361.398     -5.534      0.000   -2708.394   -1291.511\n",
       "shape_pear             -1847.3250    361.047     -5.117      0.000   -2555.077   -1139.573\n",
       "shape_princess         -2295.6765    415.897     -5.520      0.000   -3110.952   -1480.401\n",
       "shape_radiant          -1193.5352    417.709     -2.857      0.004   -2012.362    -374.709\n",
       "shape_radient           -904.5098   6546.355     -0.138      0.890   -1.37e+04    1.19e+04\n",
       "shape_round             3196.7849    320.569      9.972      0.000    2568.380    3825.190\n",
       "==============================================================================\n",
       "Omnibus:                     6356.215   Durbin-Watson:                   0.036\n",
       "Prob(Omnibus):                  0.000   Jarque-Bera (JB):           143232.244\n",
       "Skew:                           4.125   Prob(JB):                         0.00\n",
       "Kurtosis:                      22.723   Cond. No.                         93.3\n",
       "==============================================================================\n",
       "\n",
       "Warnings:\n",
       "[1] Standard Errors assume that the covariance matrix of the errors is correctly specified.\n",
       "\"\"\""
      ]
     },
     "execution_count": 26,
     "metadata": {},
     "output_type": "execute_result"
    }
   ],
   "source": [
    "#any correlation between shapes and price\n",
    "ols_model3 = ols(formula='price~shape_cushion+shape_cushion_modified+shape_emerald+shape_heart+shape_marquise+shape_oval+shape_pear+shape_princess+shape_radiant+shape_radient+shape_round', data=diamonds_no_color).fit()\n",
    "ols_model3.summary()"
   ]
  },
  {
   "cell_type": "code",
   "execution_count": 27,
   "metadata": {},
   "outputs": [
    {
     "data": {
      "text/html": [
       "<table class=\"simpletable\">\n",
       "<caption>OLS Regression Results</caption>\n",
       "<tr>\n",
       "  <th>Dep. Variable:</th>          <td>price</td>      <th>  R-squared:         </th> <td>   0.107</td> \n",
       "</tr>\n",
       "<tr>\n",
       "  <th>Model:</th>                   <td>OLS</td>       <th>  Adj. R-squared:    </th> <td>   0.105</td> \n",
       "</tr>\n",
       "<tr>\n",
       "  <th>Method:</th>             <td>Least Squares</td>  <th>  F-statistic:       </th> <td>   68.87</td> \n",
       "</tr>\n",
       "<tr>\n",
       "  <th>Date:</th>             <td>Fri, 08 May 2020</td> <th>  Prob (F-statistic):</th> <td>1.57e-172</td>\n",
       "</tr>\n",
       "<tr>\n",
       "  <th>Time:</th>                 <td>09:01:51</td>     <th>  Log-Likelihood:    </th> <td> -76713.</td> \n",
       "</tr>\n",
       "<tr>\n",
       "  <th>No. Observations:</th>      <td>  7521</td>      <th>  AIC:               </th> <td>1.535e+05</td>\n",
       "</tr>\n",
       "<tr>\n",
       "  <th>Df Residuals:</th>          <td>  7507</td>      <th>  BIC:               </th> <td>1.536e+05</td>\n",
       "</tr>\n",
       "<tr>\n",
       "  <th>Df Model:</th>              <td>    13</td>      <th>                     </th>     <td> </td>    \n",
       "</tr>\n",
       "<tr>\n",
       "  <th>Covariance Type:</th>      <td>nonrobust</td>    <th>                     </th>     <td> </td>    \n",
       "</tr>\n",
       "</table>\n",
       "<table class=\"simpletable\">\n",
       "<tr>\n",
       "             <td></td>               <th>coef</th>     <th>std err</th>      <th>t</th>      <th>P>|t|</th>  <th>[0.025</th>    <th>0.975]</th>  \n",
       "</tr>\n",
       "<tr>\n",
       "  <th>Intercept</th>              <td> 1772.6268</td> <td>  578.716</td> <td>    3.063</td> <td> 0.002</td> <td>  638.182</td> <td> 2907.072</td>\n",
       "</tr>\n",
       "<tr>\n",
       "  <th>authentication</th>         <td> -150.8940</td> <td>   34.424</td> <td>   -4.383</td> <td> 0.000</td> <td> -218.375</td> <td>  -83.413</td>\n",
       "</tr>\n",
       "<tr>\n",
       "  <th>natural</th>                <td>  430.4805</td> <td>   71.367</td> <td>    6.032</td> <td> 0.000</td> <td>  290.580</td> <td>  570.381</td>\n",
       "</tr>\n",
       "<tr>\n",
       "  <th>shape_cushion</th>          <td> -845.2222</td> <td>  653.882</td> <td>   -1.293</td> <td> 0.196</td> <td>-2127.014</td> <td>  436.570</td>\n",
       "</tr>\n",
       "<tr>\n",
       "  <th>shape_cushion_modified</th> <td> -655.3325</td> <td>  412.193</td> <td>   -1.590</td> <td> 0.112</td> <td>-1463.346</td> <td>  152.681</td>\n",
       "</tr>\n",
       "<tr>\n",
       "  <th>shape_emerald</th>          <td> 1045.2375</td> <td>  469.350</td> <td>    2.227</td> <td> 0.026</td> <td>  125.181</td> <td> 1965.294</td>\n",
       "</tr>\n",
       "<tr>\n",
       "  <th>shape_heart</th>            <td> -825.4231</td> <td>  417.560</td> <td>   -1.977</td> <td> 0.048</td> <td>-1643.958</td> <td>   -6.888</td>\n",
       "</tr>\n",
       "<tr>\n",
       "  <th>shape_marquise</th>         <td>-1688.1882</td> <td>  421.091</td> <td>   -4.009</td> <td> 0.000</td> <td>-2513.644</td> <td> -862.732</td>\n",
       "</tr>\n",
       "<tr>\n",
       "  <th>shape_oval</th>             <td>-1355.8957</td> <td>  370.140</td> <td>   -3.663</td> <td> 0.000</td> <td>-2081.474</td> <td> -630.317</td>\n",
       "</tr>\n",
       "<tr>\n",
       "  <th>shape_pear</th>             <td>-1196.8898</td> <td>  369.847</td> <td>   -3.236</td> <td> 0.001</td> <td>-1921.893</td> <td> -471.886</td>\n",
       "</tr>\n",
       "<tr>\n",
       "  <th>shape_princess</th>         <td>-2235.0820</td> <td>  415.565</td> <td>   -5.378</td> <td> 0.000</td> <td>-3049.705</td> <td>-1420.459</td>\n",
       "</tr>\n",
       "<tr>\n",
       "  <th>shape_radiant</th>          <td>-1326.9475</td> <td>  416.435</td> <td>   -3.186</td> <td> 0.001</td> <td>-2143.278</td> <td> -510.617</td>\n",
       "</tr>\n",
       "<tr>\n",
       "  <th>shape_radient</th>          <td>-3915.4173</td> <td> 6553.998</td> <td>   -0.597</td> <td> 0.550</td> <td>-1.68e+04</td> <td> 8932.254</td>\n",
       "</tr>\n",
       "<tr>\n",
       "  <th>shape_round</th>            <td> 3406.6736</td> <td>  320.459</td> <td>   10.631</td> <td> 0.000</td> <td> 2778.484</td> <td> 4034.864</td>\n",
       "</tr>\n",
       "</table>\n",
       "<table class=\"simpletable\">\n",
       "<tr>\n",
       "  <th>Omnibus:</th>       <td>6319.443</td> <th>  Durbin-Watson:     </th>  <td>   0.041</td> \n",
       "</tr>\n",
       "<tr>\n",
       "  <th>Prob(Omnibus):</th>  <td> 0.000</td>  <th>  Jarque-Bera (JB):  </th> <td>140436.394</td>\n",
       "</tr>\n",
       "<tr>\n",
       "  <th>Skew:</th>           <td> 4.093</td>  <th>  Prob(JB):          </th>  <td>    0.00</td> \n",
       "</tr>\n",
       "<tr>\n",
       "  <th>Kurtosis:</th>       <td>22.522</td>  <th>  Cond. No.          </th>  <td>4.24e+03</td> \n",
       "</tr>\n",
       "</table><br/><br/>Warnings:<br/>[1] Standard Errors assume that the covariance matrix of the errors is correctly specified.<br/>[2] The condition number is large, 4.24e+03. This might indicate that there are<br/>strong multicollinearity or other numerical problems."
      ],
      "text/plain": [
       "<class 'statsmodels.iolib.summary.Summary'>\n",
       "\"\"\"\n",
       "                            OLS Regression Results                            \n",
       "==============================================================================\n",
       "Dep. Variable:                  price   R-squared:                       0.107\n",
       "Model:                            OLS   Adj. R-squared:                  0.105\n",
       "Method:                 Least Squares   F-statistic:                     68.87\n",
       "Date:                Fri, 08 May 2020   Prob (F-statistic):          1.57e-172\n",
       "Time:                        09:01:51   Log-Likelihood:                -76713.\n",
       "No. Observations:                7521   AIC:                         1.535e+05\n",
       "Df Residuals:                    7507   BIC:                         1.536e+05\n",
       "Df Model:                          13                                         \n",
       "Covariance Type:            nonrobust                                         \n",
       "==========================================================================================\n",
       "                             coef    std err          t      P>|t|      [0.025      0.975]\n",
       "------------------------------------------------------------------------------------------\n",
       "Intercept               1772.6268    578.716      3.063      0.002     638.182    2907.072\n",
       "authentication          -150.8940     34.424     -4.383      0.000    -218.375     -83.413\n",
       "natural                  430.4805     71.367      6.032      0.000     290.580     570.381\n",
       "shape_cushion           -845.2222    653.882     -1.293      0.196   -2127.014     436.570\n",
       "shape_cushion_modified  -655.3325    412.193     -1.590      0.112   -1463.346     152.681\n",
       "shape_emerald           1045.2375    469.350      2.227      0.026     125.181    1965.294\n",
       "shape_heart             -825.4231    417.560     -1.977      0.048   -1643.958      -6.888\n",
       "shape_marquise         -1688.1882    421.091     -4.009      0.000   -2513.644    -862.732\n",
       "shape_oval             -1355.8957    370.140     -3.663      0.000   -2081.474    -630.317\n",
       "shape_pear             -1196.8898    369.847     -3.236      0.001   -1921.893    -471.886\n",
       "shape_princess         -2235.0820    415.565     -5.378      0.000   -3049.705   -1420.459\n",
       "shape_radiant          -1326.9475    416.435     -3.186      0.001   -2143.278    -510.617\n",
       "shape_radient          -3915.4173   6553.998     -0.597      0.550   -1.68e+04    8932.254\n",
       "shape_round             3406.6736    320.459     10.631      0.000    2778.484    4034.864\n",
       "==============================================================================\n",
       "Omnibus:                     6319.443   Durbin-Watson:                   0.041\n",
       "Prob(Omnibus):                  0.000   Jarque-Bera (JB):           140436.394\n",
       "Skew:                           4.093   Prob(JB):                         0.00\n",
       "Kurtosis:                      22.522   Cond. No.                     4.24e+03\n",
       "==============================================================================\n",
       "\n",
       "Warnings:\n",
       "[1] Standard Errors assume that the covariance matrix of the errors is correctly specified.\n",
       "[2] The condition number is large, 4.24e+03. This might indicate that there are\n",
       "strong multicollinearity or other numerical problems.\n",
       "\"\"\""
      ]
     },
     "execution_count": 27,
     "metadata": {},
     "output_type": "execute_result"
    }
   ],
   "source": [
    "#any correlation between price once you take out the 4Cs\n",
    "ols_model3 = ols(formula='price~authentication+natural+shape_cushion+shape_cushion_modified+shape_emerald+shape_heart+shape_marquise+shape_oval+shape_pear+shape_princess+shape_radiant+shape_radient+shape_round', data=diamonds_no_color).fit()\n",
    "ols_model3.summary()"
   ]
  },
  {
   "cell_type": "code",
   "execution_count": 28,
   "metadata": {},
   "outputs": [
    {
     "data": {
      "text/html": [
       "<div>\n",
       "<style scoped>\n",
       "    .dataframe tbody tr th:only-of-type {\n",
       "        vertical-align: middle;\n",
       "    }\n",
       "\n",
       "    .dataframe tbody tr th {\n",
       "        vertical-align: top;\n",
       "    }\n",
       "\n",
       "    .dataframe thead th {\n",
       "        text-align: right;\n",
       "    }\n",
       "</style>\n",
       "<table border=\"1\" class=\"dataframe\">\n",
       "  <thead>\n",
       "    <tr style=\"text-align: right;\">\n",
       "      <th></th>\n",
       "      <th>carat</th>\n",
       "      <th>color</th>\n",
       "      <th>clarity</th>\n",
       "      <th>cut</th>\n",
       "      <th>authentication</th>\n",
       "      <th>price</th>\n",
       "      <th>natural</th>\n",
       "      <th>price_log</th>\n",
       "      <th>shape_cushion</th>\n",
       "      <th>shape_cushion_modified</th>\n",
       "      <th>shape_emerald</th>\n",
       "      <th>shape_heart</th>\n",
       "      <th>shape_marquise</th>\n",
       "      <th>shape_oval</th>\n",
       "      <th>shape_pear</th>\n",
       "      <th>shape_princess</th>\n",
       "      <th>shape_radiant</th>\n",
       "      <th>shape_radient</th>\n",
       "      <th>shape_round</th>\n",
       "    </tr>\n",
       "  </thead>\n",
       "  <tbody>\n",
       "    <tr>\n",
       "      <th>carat</th>\n",
       "      <td>1.000000</td>\n",
       "      <td>-0.024321</td>\n",
       "      <td>-0.019826</td>\n",
       "      <td>0.151371</td>\n",
       "      <td>-0.142470</td>\n",
       "      <td>0.887511</td>\n",
       "      <td>-0.121893</td>\n",
       "      <td>0.890753</td>\n",
       "      <td>-0.005812</td>\n",
       "      <td>-0.013142</td>\n",
       "      <td>0.112711</td>\n",
       "      <td>-0.001302</td>\n",
       "      <td>-0.070499</td>\n",
       "      <td>-0.112891</td>\n",
       "      <td>-0.096589</td>\n",
       "      <td>-0.168412</td>\n",
       "      <td>0.000094</td>\n",
       "      <td>0.003444</td>\n",
       "      <td>0.182613</td>\n",
       "    </tr>\n",
       "    <tr>\n",
       "      <th>color</th>\n",
       "      <td>-0.024321</td>\n",
       "      <td>1.000000</td>\n",
       "      <td>0.050533</td>\n",
       "      <td>-0.205301</td>\n",
       "      <td>-0.392283</td>\n",
       "      <td>-0.022195</td>\n",
       "      <td>-0.413276</td>\n",
       "      <td>0.058788</td>\n",
       "      <td>0.024247</td>\n",
       "      <td>-0.022534</td>\n",
       "      <td>0.140341</td>\n",
       "      <td>0.022851</td>\n",
       "      <td>-0.020856</td>\n",
       "      <td>0.139068</td>\n",
       "      <td>0.148970</td>\n",
       "      <td>0.073391</td>\n",
       "      <td>-0.080024</td>\n",
       "      <td>-0.017546</td>\n",
       "      <td>-0.215311</td>\n",
       "    </tr>\n",
       "    <tr>\n",
       "      <th>clarity</th>\n",
       "      <td>-0.019826</td>\n",
       "      <td>0.050533</td>\n",
       "      <td>1.000000</td>\n",
       "      <td>-0.046089</td>\n",
       "      <td>-0.063552</td>\n",
       "      <td>0.045724</td>\n",
       "      <td>-0.065434</td>\n",
       "      <td>0.066150</td>\n",
       "      <td>-0.020604</td>\n",
       "      <td>0.034419</td>\n",
       "      <td>0.066324</td>\n",
       "      <td>-0.034863</td>\n",
       "      <td>-0.077533</td>\n",
       "      <td>0.029085</td>\n",
       "      <td>0.078506</td>\n",
       "      <td>0.060906</td>\n",
       "      <td>-0.064479</td>\n",
       "      <td>-0.014161</td>\n",
       "      <td>-0.130359</td>\n",
       "    </tr>\n",
       "    <tr>\n",
       "      <th>cut</th>\n",
       "      <td>0.151371</td>\n",
       "      <td>-0.205301</td>\n",
       "      <td>-0.046089</td>\n",
       "      <td>1.000000</td>\n",
       "      <td>0.170026</td>\n",
       "      <td>0.295157</td>\n",
       "      <td>0.177287</td>\n",
       "      <td>0.105429</td>\n",
       "      <td>-0.103643</td>\n",
       "      <td>0.158455</td>\n",
       "      <td>-0.191676</td>\n",
       "      <td>-0.206062</td>\n",
       "      <td>-0.202302</td>\n",
       "      <td>-0.296703</td>\n",
       "      <td>-0.297626</td>\n",
       "      <td>0.183388</td>\n",
       "      <td>-0.206295</td>\n",
       "      <td>-0.009193</td>\n",
       "      <td>0.805530</td>\n",
       "    </tr>\n",
       "    <tr>\n",
       "      <th>authentication</th>\n",
       "      <td>-0.142470</td>\n",
       "      <td>-0.392283</td>\n",
       "      <td>-0.063552</td>\n",
       "      <td>0.170026</td>\n",
       "      <td>1.000000</td>\n",
       "      <td>0.071549</td>\n",
       "      <td>0.969642</td>\n",
       "      <td>-0.060047</td>\n",
       "      <td>-0.052876</td>\n",
       "      <td>0.041595</td>\n",
       "      <td>-0.377241</td>\n",
       "      <td>0.141653</td>\n",
       "      <td>0.153062</td>\n",
       "      <td>-0.179301</td>\n",
       "      <td>-0.174907</td>\n",
       "      <td>0.141715</td>\n",
       "      <td>0.115249</td>\n",
       "      <td>-0.018124</td>\n",
       "      <td>0.094013</td>\n",
       "    </tr>\n",
       "    <tr>\n",
       "      <th>price</th>\n",
       "      <td>0.887511</td>\n",
       "      <td>-0.022195</td>\n",
       "      <td>0.045724</td>\n",
       "      <td>0.295157</td>\n",
       "      <td>0.071549</td>\n",
       "      <td>1.000000</td>\n",
       "      <td>0.088409</td>\n",
       "      <td>0.794734</td>\n",
       "      <td>-0.025309</td>\n",
       "      <td>-0.037126</td>\n",
       "      <td>-0.009094</td>\n",
       "      <td>-0.033670</td>\n",
       "      <td>-0.061569</td>\n",
       "      <td>-0.109103</td>\n",
       "      <td>-0.101167</td>\n",
       "      <td>-0.087756</td>\n",
       "      <td>-0.045552</td>\n",
       "      <td>-0.001546</td>\n",
       "      <td>0.302810</td>\n",
       "    </tr>\n",
       "    <tr>\n",
       "      <th>natural</th>\n",
       "      <td>-0.121893</td>\n",
       "      <td>-0.413276</td>\n",
       "      <td>-0.065434</td>\n",
       "      <td>0.177287</td>\n",
       "      <td>0.969642</td>\n",
       "      <td>0.088409</td>\n",
       "      <td>1.000000</td>\n",
       "      <td>-0.033174</td>\n",
       "      <td>-0.048698</td>\n",
       "      <td>0.033609</td>\n",
       "      <td>-0.390935</td>\n",
       "      <td>0.136261</td>\n",
       "      <td>0.155541</td>\n",
       "      <td>-0.191810</td>\n",
       "      <td>-0.190117</td>\n",
       "      <td>0.135623</td>\n",
       "      <td>0.142615</td>\n",
       "      <td>0.007068</td>\n",
       "      <td>0.102822</td>\n",
       "    </tr>\n",
       "    <tr>\n",
       "      <th>price_log</th>\n",
       "      <td>0.890753</td>\n",
       "      <td>0.058788</td>\n",
       "      <td>0.066150</td>\n",
       "      <td>0.105429</td>\n",
       "      <td>-0.060047</td>\n",
       "      <td>0.794734</td>\n",
       "      <td>-0.033174</td>\n",
       "      <td>1.000000</td>\n",
       "      <td>-0.009094</td>\n",
       "      <td>-0.059809</td>\n",
       "      <td>0.092391</td>\n",
       "      <td>0.082837</td>\n",
       "      <td>-0.035933</td>\n",
       "      <td>-0.152530</td>\n",
       "      <td>-0.124764</td>\n",
       "      <td>-0.235112</td>\n",
       "      <td>0.047555</td>\n",
       "      <td>0.005163</td>\n",
       "      <td>0.156406</td>\n",
       "    </tr>\n",
       "    <tr>\n",
       "      <th>shape_cushion</th>\n",
       "      <td>-0.005812</td>\n",
       "      <td>0.024247</td>\n",
       "      <td>-0.020604</td>\n",
       "      <td>-0.103643</td>\n",
       "      <td>-0.052876</td>\n",
       "      <td>-0.025309</td>\n",
       "      <td>-0.048698</td>\n",
       "      <td>-0.009094</td>\n",
       "      <td>1.000000</td>\n",
       "      <td>-0.034619</td>\n",
       "      <td>-0.031257</td>\n",
       "      <td>-0.033603</td>\n",
       "      <td>-0.032989</td>\n",
       "      <td>-0.048384</td>\n",
       "      <td>-0.048534</td>\n",
       "      <td>-0.033944</td>\n",
       "      <td>-0.033641</td>\n",
       "      <td>-0.001499</td>\n",
       "      <td>-0.085288</td>\n",
       "    </tr>\n",
       "    <tr>\n",
       "      <th>shape_cushion_modified</th>\n",
       "      <td>-0.013142</td>\n",
       "      <td>-0.022534</td>\n",
       "      <td>0.034419</td>\n",
       "      <td>0.158455</td>\n",
       "      <td>0.041595</td>\n",
       "      <td>-0.037126</td>\n",
       "      <td>0.033609</td>\n",
       "      <td>-0.059809</td>\n",
       "      <td>-0.034619</td>\n",
       "      <td>1.000000</td>\n",
       "      <td>-0.064024</td>\n",
       "      <td>-0.068829</td>\n",
       "      <td>-0.067573</td>\n",
       "      <td>-0.099105</td>\n",
       "      <td>-0.099413</td>\n",
       "      <td>-0.069528</td>\n",
       "      <td>-0.068907</td>\n",
       "      <td>-0.003071</td>\n",
       "      <td>-0.174697</td>\n",
       "    </tr>\n",
       "    <tr>\n",
       "      <th>shape_emerald</th>\n",
       "      <td>0.112711</td>\n",
       "      <td>0.140341</td>\n",
       "      <td>0.066324</td>\n",
       "      <td>-0.191676</td>\n",
       "      <td>-0.377241</td>\n",
       "      <td>-0.009094</td>\n",
       "      <td>-0.390935</td>\n",
       "      <td>0.092391</td>\n",
       "      <td>-0.031257</td>\n",
       "      <td>-0.064024</td>\n",
       "      <td>1.000000</td>\n",
       "      <td>-0.062144</td>\n",
       "      <td>-0.061011</td>\n",
       "      <td>-0.089480</td>\n",
       "      <td>-0.089758</td>\n",
       "      <td>-0.062775</td>\n",
       "      <td>-0.062215</td>\n",
       "      <td>-0.002773</td>\n",
       "      <td>-0.157731</td>\n",
       "    </tr>\n",
       "    <tr>\n",
       "      <th>shape_heart</th>\n",
       "      <td>-0.001302</td>\n",
       "      <td>0.022851</td>\n",
       "      <td>-0.034863</td>\n",
       "      <td>-0.206062</td>\n",
       "      <td>0.141653</td>\n",
       "      <td>-0.033670</td>\n",
       "      <td>0.136261</td>\n",
       "      <td>0.082837</td>\n",
       "      <td>-0.033603</td>\n",
       "      <td>-0.068829</td>\n",
       "      <td>-0.062144</td>\n",
       "      <td>1.000000</td>\n",
       "      <td>-0.065590</td>\n",
       "      <td>-0.096196</td>\n",
       "      <td>-0.096495</td>\n",
       "      <td>-0.067487</td>\n",
       "      <td>-0.066884</td>\n",
       "      <td>-0.002981</td>\n",
       "      <td>-0.169570</td>\n",
       "    </tr>\n",
       "    <tr>\n",
       "      <th>shape_marquise</th>\n",
       "      <td>-0.070499</td>\n",
       "      <td>-0.020856</td>\n",
       "      <td>-0.077533</td>\n",
       "      <td>-0.202302</td>\n",
       "      <td>0.153062</td>\n",
       "      <td>-0.061569</td>\n",
       "      <td>0.155541</td>\n",
       "      <td>-0.035933</td>\n",
       "      <td>-0.032989</td>\n",
       "      <td>-0.067573</td>\n",
       "      <td>-0.061011</td>\n",
       "      <td>-0.065590</td>\n",
       "      <td>1.000000</td>\n",
       "      <td>-0.094441</td>\n",
       "      <td>-0.094734</td>\n",
       "      <td>-0.066256</td>\n",
       "      <td>-0.065664</td>\n",
       "      <td>-0.002926</td>\n",
       "      <td>-0.166476</td>\n",
       "    </tr>\n",
       "    <tr>\n",
       "      <th>shape_oval</th>\n",
       "      <td>-0.112891</td>\n",
       "      <td>0.139068</td>\n",
       "      <td>0.029085</td>\n",
       "      <td>-0.296703</td>\n",
       "      <td>-0.179301</td>\n",
       "      <td>-0.109103</td>\n",
       "      <td>-0.191810</td>\n",
       "      <td>-0.152530</td>\n",
       "      <td>-0.048384</td>\n",
       "      <td>-0.099105</td>\n",
       "      <td>-0.089480</td>\n",
       "      <td>-0.096196</td>\n",
       "      <td>-0.094441</td>\n",
       "      <td>1.000000</td>\n",
       "      <td>-0.138941</td>\n",
       "      <td>-0.097173</td>\n",
       "      <td>-0.096305</td>\n",
       "      <td>-0.004292</td>\n",
       "      <td>-0.244159</td>\n",
       "    </tr>\n",
       "    <tr>\n",
       "      <th>shape_pear</th>\n",
       "      <td>-0.096589</td>\n",
       "      <td>0.148970</td>\n",
       "      <td>0.078506</td>\n",
       "      <td>-0.297626</td>\n",
       "      <td>-0.174907</td>\n",
       "      <td>-0.101167</td>\n",
       "      <td>-0.190117</td>\n",
       "      <td>-0.124764</td>\n",
       "      <td>-0.048534</td>\n",
       "      <td>-0.099413</td>\n",
       "      <td>-0.089758</td>\n",
       "      <td>-0.096495</td>\n",
       "      <td>-0.094734</td>\n",
       "      <td>-0.138941</td>\n",
       "      <td>1.000000</td>\n",
       "      <td>-0.097475</td>\n",
       "      <td>-0.096604</td>\n",
       "      <td>-0.004305</td>\n",
       "      <td>-0.244918</td>\n",
       "    </tr>\n",
       "    <tr>\n",
       "      <th>shape_princess</th>\n",
       "      <td>-0.168412</td>\n",
       "      <td>0.073391</td>\n",
       "      <td>0.060906</td>\n",
       "      <td>0.183388</td>\n",
       "      <td>0.141715</td>\n",
       "      <td>-0.087756</td>\n",
       "      <td>0.135623</td>\n",
       "      <td>-0.235112</td>\n",
       "      <td>-0.033944</td>\n",
       "      <td>-0.069528</td>\n",
       "      <td>-0.062775</td>\n",
       "      <td>-0.067487</td>\n",
       "      <td>-0.066256</td>\n",
       "      <td>-0.097173</td>\n",
       "      <td>-0.097475</td>\n",
       "      <td>1.000000</td>\n",
       "      <td>-0.067563</td>\n",
       "      <td>-0.003011</td>\n",
       "      <td>-0.171291</td>\n",
       "    </tr>\n",
       "    <tr>\n",
       "      <th>shape_radiant</th>\n",
       "      <td>0.000094</td>\n",
       "      <td>-0.080024</td>\n",
       "      <td>-0.064479</td>\n",
       "      <td>-0.206295</td>\n",
       "      <td>0.115249</td>\n",
       "      <td>-0.045552</td>\n",
       "      <td>0.142615</td>\n",
       "      <td>0.047555</td>\n",
       "      <td>-0.033641</td>\n",
       "      <td>-0.068907</td>\n",
       "      <td>-0.062215</td>\n",
       "      <td>-0.066884</td>\n",
       "      <td>-0.065664</td>\n",
       "      <td>-0.096305</td>\n",
       "      <td>-0.096604</td>\n",
       "      <td>-0.067563</td>\n",
       "      <td>1.000000</td>\n",
       "      <td>-0.002984</td>\n",
       "      <td>-0.169762</td>\n",
       "    </tr>\n",
       "    <tr>\n",
       "      <th>shape_radient</th>\n",
       "      <td>0.003444</td>\n",
       "      <td>-0.017546</td>\n",
       "      <td>-0.014161</td>\n",
       "      <td>-0.009193</td>\n",
       "      <td>-0.018124</td>\n",
       "      <td>-0.001546</td>\n",
       "      <td>0.007068</td>\n",
       "      <td>0.005163</td>\n",
       "      <td>-0.001499</td>\n",
       "      <td>-0.003071</td>\n",
       "      <td>-0.002773</td>\n",
       "      <td>-0.002981</td>\n",
       "      <td>-0.002926</td>\n",
       "      <td>-0.004292</td>\n",
       "      <td>-0.004305</td>\n",
       "      <td>-0.003011</td>\n",
       "      <td>-0.002984</td>\n",
       "      <td>1.000000</td>\n",
       "      <td>-0.007565</td>\n",
       "    </tr>\n",
       "    <tr>\n",
       "      <th>shape_round</th>\n",
       "      <td>0.182613</td>\n",
       "      <td>-0.215311</td>\n",
       "      <td>-0.130359</td>\n",
       "      <td>0.805530</td>\n",
       "      <td>0.094013</td>\n",
       "      <td>0.302810</td>\n",
       "      <td>0.102822</td>\n",
       "      <td>0.156406</td>\n",
       "      <td>-0.085288</td>\n",
       "      <td>-0.174697</td>\n",
       "      <td>-0.157731</td>\n",
       "      <td>-0.169570</td>\n",
       "      <td>-0.166476</td>\n",
       "      <td>-0.244159</td>\n",
       "      <td>-0.244918</td>\n",
       "      <td>-0.171291</td>\n",
       "      <td>-0.169762</td>\n",
       "      <td>-0.007565</td>\n",
       "      <td>1.000000</td>\n",
       "    </tr>\n",
       "  </tbody>\n",
       "</table>\n",
       "</div>"
      ],
      "text/plain": [
       "                           carat     color   clarity       cut  \\\n",
       "carat                   1.000000 -0.024321 -0.019826  0.151371   \n",
       "color                  -0.024321  1.000000  0.050533 -0.205301   \n",
       "clarity                -0.019826  0.050533  1.000000 -0.046089   \n",
       "cut                     0.151371 -0.205301 -0.046089  1.000000   \n",
       "authentication         -0.142470 -0.392283 -0.063552  0.170026   \n",
       "price                   0.887511 -0.022195  0.045724  0.295157   \n",
       "natural                -0.121893 -0.413276 -0.065434  0.177287   \n",
       "price_log               0.890753  0.058788  0.066150  0.105429   \n",
       "shape_cushion          -0.005812  0.024247 -0.020604 -0.103643   \n",
       "shape_cushion_modified -0.013142 -0.022534  0.034419  0.158455   \n",
       "shape_emerald           0.112711  0.140341  0.066324 -0.191676   \n",
       "shape_heart            -0.001302  0.022851 -0.034863 -0.206062   \n",
       "shape_marquise         -0.070499 -0.020856 -0.077533 -0.202302   \n",
       "shape_oval             -0.112891  0.139068  0.029085 -0.296703   \n",
       "shape_pear             -0.096589  0.148970  0.078506 -0.297626   \n",
       "shape_princess         -0.168412  0.073391  0.060906  0.183388   \n",
       "shape_radiant           0.000094 -0.080024 -0.064479 -0.206295   \n",
       "shape_radient           0.003444 -0.017546 -0.014161 -0.009193   \n",
       "shape_round             0.182613 -0.215311 -0.130359  0.805530   \n",
       "\n",
       "                        authentication     price   natural  price_log  \\\n",
       "carat                        -0.142470  0.887511 -0.121893   0.890753   \n",
       "color                        -0.392283 -0.022195 -0.413276   0.058788   \n",
       "clarity                      -0.063552  0.045724 -0.065434   0.066150   \n",
       "cut                           0.170026  0.295157  0.177287   0.105429   \n",
       "authentication                1.000000  0.071549  0.969642  -0.060047   \n",
       "price                         0.071549  1.000000  0.088409   0.794734   \n",
       "natural                       0.969642  0.088409  1.000000  -0.033174   \n",
       "price_log                    -0.060047  0.794734 -0.033174   1.000000   \n",
       "shape_cushion                -0.052876 -0.025309 -0.048698  -0.009094   \n",
       "shape_cushion_modified        0.041595 -0.037126  0.033609  -0.059809   \n",
       "shape_emerald                -0.377241 -0.009094 -0.390935   0.092391   \n",
       "shape_heart                   0.141653 -0.033670  0.136261   0.082837   \n",
       "shape_marquise                0.153062 -0.061569  0.155541  -0.035933   \n",
       "shape_oval                   -0.179301 -0.109103 -0.191810  -0.152530   \n",
       "shape_pear                   -0.174907 -0.101167 -0.190117  -0.124764   \n",
       "shape_princess                0.141715 -0.087756  0.135623  -0.235112   \n",
       "shape_radiant                 0.115249 -0.045552  0.142615   0.047555   \n",
       "shape_radient                -0.018124 -0.001546  0.007068   0.005163   \n",
       "shape_round                   0.094013  0.302810  0.102822   0.156406   \n",
       "\n",
       "                        shape_cushion  shape_cushion_modified  shape_emerald  \\\n",
       "carat                       -0.005812               -0.013142       0.112711   \n",
       "color                        0.024247               -0.022534       0.140341   \n",
       "clarity                     -0.020604                0.034419       0.066324   \n",
       "cut                         -0.103643                0.158455      -0.191676   \n",
       "authentication              -0.052876                0.041595      -0.377241   \n",
       "price                       -0.025309               -0.037126      -0.009094   \n",
       "natural                     -0.048698                0.033609      -0.390935   \n",
       "price_log                   -0.009094               -0.059809       0.092391   \n",
       "shape_cushion                1.000000               -0.034619      -0.031257   \n",
       "shape_cushion_modified      -0.034619                1.000000      -0.064024   \n",
       "shape_emerald               -0.031257               -0.064024       1.000000   \n",
       "shape_heart                 -0.033603               -0.068829      -0.062144   \n",
       "shape_marquise              -0.032989               -0.067573      -0.061011   \n",
       "shape_oval                  -0.048384               -0.099105      -0.089480   \n",
       "shape_pear                  -0.048534               -0.099413      -0.089758   \n",
       "shape_princess              -0.033944               -0.069528      -0.062775   \n",
       "shape_radiant               -0.033641               -0.068907      -0.062215   \n",
       "shape_radient               -0.001499               -0.003071      -0.002773   \n",
       "shape_round                 -0.085288               -0.174697      -0.157731   \n",
       "\n",
       "                        shape_heart  shape_marquise  shape_oval  shape_pear  \\\n",
       "carat                     -0.001302       -0.070499   -0.112891   -0.096589   \n",
       "color                      0.022851       -0.020856    0.139068    0.148970   \n",
       "clarity                   -0.034863       -0.077533    0.029085    0.078506   \n",
       "cut                       -0.206062       -0.202302   -0.296703   -0.297626   \n",
       "authentication             0.141653        0.153062   -0.179301   -0.174907   \n",
       "price                     -0.033670       -0.061569   -0.109103   -0.101167   \n",
       "natural                    0.136261        0.155541   -0.191810   -0.190117   \n",
       "price_log                  0.082837       -0.035933   -0.152530   -0.124764   \n",
       "shape_cushion             -0.033603       -0.032989   -0.048384   -0.048534   \n",
       "shape_cushion_modified    -0.068829       -0.067573   -0.099105   -0.099413   \n",
       "shape_emerald             -0.062144       -0.061011   -0.089480   -0.089758   \n",
       "shape_heart                1.000000       -0.065590   -0.096196   -0.096495   \n",
       "shape_marquise            -0.065590        1.000000   -0.094441   -0.094734   \n",
       "shape_oval                -0.096196       -0.094441    1.000000   -0.138941   \n",
       "shape_pear                -0.096495       -0.094734   -0.138941    1.000000   \n",
       "shape_princess            -0.067487       -0.066256   -0.097173   -0.097475   \n",
       "shape_radiant             -0.066884       -0.065664   -0.096305   -0.096604   \n",
       "shape_radient             -0.002981       -0.002926   -0.004292   -0.004305   \n",
       "shape_round               -0.169570       -0.166476   -0.244159   -0.244918   \n",
       "\n",
       "                        shape_princess  shape_radiant  shape_radient  \\\n",
       "carat                        -0.168412       0.000094       0.003444   \n",
       "color                         0.073391      -0.080024      -0.017546   \n",
       "clarity                       0.060906      -0.064479      -0.014161   \n",
       "cut                           0.183388      -0.206295      -0.009193   \n",
       "authentication                0.141715       0.115249      -0.018124   \n",
       "price                        -0.087756      -0.045552      -0.001546   \n",
       "natural                       0.135623       0.142615       0.007068   \n",
       "price_log                    -0.235112       0.047555       0.005163   \n",
       "shape_cushion                -0.033944      -0.033641      -0.001499   \n",
       "shape_cushion_modified       -0.069528      -0.068907      -0.003071   \n",
       "shape_emerald                -0.062775      -0.062215      -0.002773   \n",
       "shape_heart                  -0.067487      -0.066884      -0.002981   \n",
       "shape_marquise               -0.066256      -0.065664      -0.002926   \n",
       "shape_oval                   -0.097173      -0.096305      -0.004292   \n",
       "shape_pear                   -0.097475      -0.096604      -0.004305   \n",
       "shape_princess                1.000000      -0.067563      -0.003011   \n",
       "shape_radiant                -0.067563       1.000000      -0.002984   \n",
       "shape_radient                -0.003011      -0.002984       1.000000   \n",
       "shape_round                  -0.171291      -0.169762      -0.007565   \n",
       "\n",
       "                        shape_round  \n",
       "carat                      0.182613  \n",
       "color                     -0.215311  \n",
       "clarity                   -0.130359  \n",
       "cut                        0.805530  \n",
       "authentication             0.094013  \n",
       "price                      0.302810  \n",
       "natural                    0.102822  \n",
       "price_log                  0.156406  \n",
       "shape_cushion             -0.085288  \n",
       "shape_cushion_modified    -0.174697  \n",
       "shape_emerald             -0.157731  \n",
       "shape_heart               -0.169570  \n",
       "shape_marquise            -0.166476  \n",
       "shape_oval                -0.244159  \n",
       "shape_pear                -0.244918  \n",
       "shape_princess            -0.171291  \n",
       "shape_radiant             -0.169762  \n",
       "shape_radient             -0.007565  \n",
       "shape_round                1.000000  "
      ]
     },
     "execution_count": 28,
     "metadata": {},
     "output_type": "execute_result"
    }
   ],
   "source": [
    "#look for correlation thru all variables\n",
    "diamonds_no_color.corr()"
   ]
  },
  {
   "cell_type": "code",
   "execution_count": 29,
   "metadata": {
    "scrolled": false
   },
   "outputs": [
    {
     "data": {
      "image/png": "[encoded data removed]",
      "text/plain": [
       "<Figure size 1440x1440 with 2 Axes>"
      ]
     },
     "metadata": {
      "needs_background": "light"
     },
     "output_type": "display_data"
    }
   ],
   "source": [
    "#mapping correlation\n",
    "corr = diamonds_no_color.corr()\n",
    "mask = np.zeros_like(corr)\n",
    "mask[np.triu_indices_from(mask)] = True\n",
    "f, ax2 = plt.subplots(figsize=(20, 20))\n",
    "ax2 = sns.heatmap(corr,mask=mask,cmap=\"PuBuGn\",annot = True)"
   ]
  },
  {
   "cell_type": "code",
   "execution_count": 30,
   "metadata": {
    "scrolled": false
   },
   "outputs": [
    {
     "data": {
      "text/plain": [
       "<seaborn.axisgrid.FacetGrid at 0x1c9fa447688>"
      ]
     },
     "execution_count": 30,
     "metadata": {},
     "output_type": "execute_result"
    },
    {
     "data": {
      "image/png": "[encoded data removed]",
      "text/plain": [
       "<Figure size 360x360 with 1 Axes>"
      ]
     },
     "metadata": {
      "needs_background": "light"
     },
     "output_type": "display_data"
    }
   ],
   "source": [
    "#linear model of diamond pricing-log- and carats\n",
    "sns.lmplot(y='price_log',x='carat',data = diamonds_no_color,fit_reg=True)"
   ]
  },
  {
   "cell_type": "code",
   "execution_count": 31,
   "metadata": {
    "scrolled": true
   },
   "outputs": [
    {
     "data": {
      "text/plain": [
       "<seaborn.axisgrid.FacetGrid at 0x1c9fa452808>"
      ]
     },
     "execution_count": 31,
     "metadata": {},
     "output_type": "execute_result"
    },
    {
     "data": {
      "image/png": "[encoded data removed]",
      "text/plain": [
       "<Figure size 360x360 with 1 Axes>"
      ]
     },
     "metadata": {
      "needs_background": "light"
     },
     "output_type": "display_data"
    }
   ],
   "source": [
    "#linear model of diamond pricing - and carats\n",
    "sns.lmplot(y='price',x='carat',data = diamonds_no_color,fit_reg=True)"
   ]
  },
  {
   "cell_type": "code",
   "execution_count": 32,
   "metadata": {},
   "outputs": [
    {
     "data": {
      "text/plain": [
       "<seaborn.axisgrid.FacetGrid at 0x1c980c65b48>"
      ]
     },
     "execution_count": 32,
     "metadata": {},
     "output_type": "execute_result"
    },
    {
     "data": {
      "image/png": "[encoded data removed]",
      "text/plain": [
       "<Figure size 360x360 with 1 Axes>"
      ]
     },
     "metadata": {
      "needs_background": "light"
     },
     "output_type": "display_data"
    }
   ],
   "source": [
    "sns.lmplot(y='price',x='clarity',data = diamonds_no_color,fit_reg=True)"
   ]
  },
  {
   "cell_type": "code",
   "execution_count": 33,
   "metadata": {},
   "outputs": [
    {
     "data": {
      "text/plain": [
       "<matplotlib.axes._subplots.AxesSubplot at 0x1c980cde188>"
      ]
     },
     "execution_count": 33,
     "metadata": {},
     "output_type": "execute_result"
    },
    {
     "data": {
      "image/png": "[encoded data removed]",
      "text/plain": [
       "<Figure size 432x288 with 1 Axes>"
      ]
     },
     "metadata": {
      "needs_background": "light"
     },
     "output_type": "display_data"
    }
   ],
   "source": [
    "sns.scatterplot(diamonds_no_color.price,diamonds_no_color.clarity)"
   ]
  },
  {
   "cell_type": "code",
   "execution_count": 30,
   "metadata": {},
   "outputs": [],
   "source": [
    "diamonds_no_color.to_csv('diamonds_no_color_cleaned.csv',index = True)"
   ]
  }
 ],
 "metadata": {
  "kernelspec": {
   "display_name": "Python 3",
   "language": "python",
   "name": "python3"
  },
  "language_info": {
   "codemirror_mode": {
    "name": "ipython",
    "version": 3
   },
   "file_extension": ".py",
   "mimetype": "text/x-python",
   "name": "python",
   "nbconvert_exporter": "python",
   "pygments_lexer": "ipython3",
   "version": "3.7.6"
  }
 },
 "nbformat": 4,
 "nbformat_minor": 4
}
