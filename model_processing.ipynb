{
 "cells": [
  {
   "cell_type": "code",
   "execution_count": 1,
   "metadata": {
    "scrolled": true
   },
   "outputs": [],
   "source": [
    "import pandas as pd\n",
    "import seaborn as sns\n",
    "import numpy as np\n",
    "import matplotlib.pyplot as plt\n",
    "from sklearn.model_selection import train_test_split\n",
    "from sklearn.linear_model import LinearRegression\n",
    "from sklearn.preprocessing import StandardScaler\n",
    "from sklearn.preprocessing import MinMaxScaler\n",
    "from sklearn.linear_model import Lasso\n",
    "from sklearn.linear_model import Ridge\n",
    "from sklearn.feature_selection import SelectKBest, f_regression,mutual_info_regression\n",
    "from sklearn import metrics\n",
    "import statsmodels.api as sm\n",
    "import random"
   ]
  },
  {
   "cell_type": "code",
   "execution_count": 2,
   "metadata": {},
   "outputs": [],
   "source": [
    "#opening cleaned out file\n",
    "diamonds_no_color_cleaned = pd.read_csv(\"diamonds_no_color_cleaned.csv\")"
   ]
  },
  {
   "cell_type": "code",
   "execution_count": 3,
   "metadata": {},
   "outputs": [],
   "source": [
    "#dropping not needed column ship_date and new added column of index\n",
    "diamonds_no_color_cleaned = diamonds_no_color_cleaned.drop([\"Unnamed: 0\"],axis=1)\n",
    "diamonds_no_color_cleaned = diamonds_no_color_cleaned.drop([\"price_log\"],axis=1)"
   ]
  },
  {
   "cell_type": "code",
   "execution_count": 4,
   "metadata": {},
   "outputs": [],
   "source": [
    "#assiging Target value and incorporating features\n",
    "target = diamonds_no_color_cleaned['price']\n",
    "features = diamonds_no_color_cleaned.drop(['price'], axis=1)"
   ]
  },
  {
   "cell_type": "code",
   "execution_count": 44,
   "metadata": {},
   "outputs": [
    {
     "data": {
      "text/plain": [
       "(7521, 17)"
      ]
     },
     "execution_count": 44,
     "metadata": {},
     "output_type": "execute_result"
    }
   ],
   "source": [
    "features.shape"
   ]
  },
  {
   "cell_type": "code",
   "execution_count": 5,
   "metadata": {},
   "outputs": [
    {
     "data": {
      "text/html": [
       "<table class=\"simpletable\">\n",
       "<caption>OLS Regression Results</caption>\n",
       "<tr>\n",
       "  <th>Dep. Variable:</th>          <td>price</td>      <th>  R-squared (uncentered):</th>      <td>   0.828</td> \n",
       "</tr>\n",
       "<tr>\n",
       "  <th>Model:</th>                   <td>OLS</td>       <th>  Adj. R-squared (uncentered):</th> <td>   0.827</td> \n",
       "</tr>\n",
       "<tr>\n",
       "  <th>Method:</th>             <td>Least Squares</td>  <th>  F-statistic:       </th>          <td>   2120.</td> \n",
       "</tr>\n",
       "<tr>\n",
       "  <th>Date:</th>             <td>Fri, 08 May 2020</td> <th>  Prob (F-statistic):</th>           <td>  0.00</td>  \n",
       "</tr>\n",
       "<tr>\n",
       "  <th>Time:</th>                 <td>09:02:29</td>     <th>  Log-Likelihood:    </th>          <td> -71124.</td> \n",
       "</tr>\n",
       "<tr>\n",
       "  <th>No. Observations:</th>      <td>  7521</td>      <th>  AIC:               </th>          <td>1.423e+05</td>\n",
       "</tr>\n",
       "<tr>\n",
       "  <th>Df Residuals:</th>          <td>  7504</td>      <th>  BIC:               </th>          <td>1.424e+05</td>\n",
       "</tr>\n",
       "<tr>\n",
       "  <th>Df Model:</th>              <td>    17</td>      <th>                     </th>              <td> </td>    \n",
       "</tr>\n",
       "<tr>\n",
       "  <th>Covariance Type:</th>      <td>nonrobust</td>    <th>                     </th>              <td> </td>    \n",
       "</tr>\n",
       "</table>\n",
       "<table class=\"simpletable\">\n",
       "<tr>\n",
       "             <td></td>               <th>coef</th>     <th>std err</th>      <th>t</th>      <th>P>|t|</th>  <th>[0.025</th>    <th>0.975]</th>  \n",
       "</tr>\n",
       "<tr>\n",
       "  <th>carat</th>                  <td> 1.015e+04</td> <td>   65.075</td> <td>  155.941</td> <td> 0.000</td> <td>    1e+04</td> <td> 1.03e+04</td>\n",
       "</tr>\n",
       "<tr>\n",
       "  <th>color</th>                  <td>  -16.6560</td> <td>    1.570</td> <td>  -10.611</td> <td> 0.000</td> <td>  -19.733</td> <td>  -13.579</td>\n",
       "</tr>\n",
       "<tr>\n",
       "  <th>clarity</th>                <td>   -0.2447</td> <td>    2.188</td> <td>   -0.112</td> <td> 0.911</td> <td>   -4.534</td> <td>    4.044</td>\n",
       "</tr>\n",
       "<tr>\n",
       "  <th>cut</th>                    <td>   51.4787</td> <td>    6.229</td> <td>    8.264</td> <td> 0.000</td> <td>   39.268</td> <td>   63.690</td>\n",
       "</tr>\n",
       "<tr>\n",
       "  <th>authentication</th>         <td> -318.2261</td> <td>   14.842</td> <td>  -21.441</td> <td> 0.000</td> <td> -347.321</td> <td> -289.131</td>\n",
       "</tr>\n",
       "<tr>\n",
       "  <th>natural</th>                <td>  654.5001</td> <td>   33.585</td> <td>   19.488</td> <td> 0.000</td> <td>  588.663</td> <td>  720.337</td>\n",
       "</tr>\n",
       "<tr>\n",
       "  <th>shape_cushion</th>          <td>-1734.6710</td> <td>  303.753</td> <td>   -5.711</td> <td> 0.000</td> <td>-2330.113</td> <td>-1139.229</td>\n",
       "</tr>\n",
       "<tr>\n",
       "  <th>shape_cushion_modified</th> <td>-2428.4678</td> <td>  236.748</td> <td>  -10.258</td> <td> 0.000</td> <td>-2892.560</td> <td>-1964.375</td>\n",
       "</tr>\n",
       "<tr>\n",
       "  <th>shape_emerald</th>          <td>-3158.1542</td> <td>  204.069</td> <td>  -15.476</td> <td> 0.000</td> <td>-3558.187</td> <td>-2758.121</td>\n",
       "</tr>\n",
       "<tr>\n",
       "  <th>shape_heart</th>            <td>-1430.8768</td> <td>  196.728</td> <td>   -7.273</td> <td> 0.000</td> <td>-1816.518</td> <td>-1045.236</td>\n",
       "</tr>\n",
       "<tr>\n",
       "  <th>shape_marquise</th>         <td> -792.9409</td> <td>  197.837</td> <td>   -4.008</td> <td> 0.000</td> <td>-1180.757</td> <td> -405.125</td>\n",
       "</tr>\n",
       "<tr>\n",
       "  <th>shape_oval</th>             <td> -663.1314</td> <td>  165.068</td> <td>   -4.017</td> <td> 0.000</td> <td> -986.710</td> <td> -339.552</td>\n",
       "</tr>\n",
       "<tr>\n",
       "  <th>shape_pear</th>             <td> -736.3712</td> <td>  165.648</td> <td>   -4.445</td> <td> 0.000</td> <td>-1061.087</td> <td> -411.656</td>\n",
       "</tr>\n",
       "<tr>\n",
       "  <th>shape_princess</th>         <td> -347.4593</td> <td>  253.134</td> <td>   -1.373</td> <td> 0.170</td> <td> -843.673</td> <td>  148.754</td>\n",
       "</tr>\n",
       "<tr>\n",
       "  <th>shape_radiant</th>          <td>-2290.8284</td> <td>  191.410</td> <td>  -11.968</td> <td> 0.000</td> <td>-2666.045</td> <td>-1915.612</td>\n",
       "</tr>\n",
       "<tr>\n",
       "  <th>shape_radient</th>          <td>-1.017e+04</td> <td> 3110.911</td> <td>   -3.268</td> <td> 0.001</td> <td>-1.63e+04</td> <td>-4068.391</td>\n",
       "</tr>\n",
       "<tr>\n",
       "  <th>shape_round</th>            <td> -919.5092</td> <td>  248.771</td> <td>   -3.696</td> <td> 0.000</td> <td>-1407.169</td> <td> -431.849</td>\n",
       "</tr>\n",
       "</table>\n",
       "<table class=\"simpletable\">\n",
       "<tr>\n",
       "  <th>Omnibus:</th>       <td>4529.114</td> <th>  Durbin-Watson:     </th>  <td>   0.713</td> \n",
       "</tr>\n",
       "<tr>\n",
       "  <th>Prob(Omnibus):</th>  <td> 0.000</td>  <th>  Jarque-Bera (JB):  </th> <td>123768.890</td>\n",
       "</tr>\n",
       "<tr>\n",
       "  <th>Skew:</th>           <td> 2.400</td>  <th>  Prob(JB):          </th>  <td>    0.00</td> \n",
       "</tr>\n",
       "<tr>\n",
       "  <th>Kurtosis:</th>       <td>22.285</td>  <th>  Cond. No.          </th>  <td>8.60e+03</td> \n",
       "</tr>\n",
       "</table><br/><br/>Warnings:<br/>[1] Standard Errors assume that the covariance matrix of the errors is correctly specified.<br/>[2] The condition number is large, 8.6e+03. This might indicate that there are<br/>strong multicollinearity or other numerical problems."
      ],
      "text/plain": [
       "<class 'statsmodels.iolib.summary.Summary'>\n",
       "\"\"\"\n",
       "                                 OLS Regression Results                                \n",
       "=======================================================================================\n",
       "Dep. Variable:                  price   R-squared (uncentered):                   0.828\n",
       "Model:                            OLS   Adj. R-squared (uncentered):              0.827\n",
       "Method:                 Least Squares   F-statistic:                              2120.\n",
       "Date:                Fri, 08 May 2020   Prob (F-statistic):                        0.00\n",
       "Time:                        09:02:29   Log-Likelihood:                         -71124.\n",
       "No. Observations:                7521   AIC:                                  1.423e+05\n",
       "Df Residuals:                    7504   BIC:                                  1.424e+05\n",
       "Df Model:                          17                                                  \n",
       "Covariance Type:            nonrobust                                                  \n",
       "==========================================================================================\n",
       "                             coef    std err          t      P>|t|      [0.025      0.975]\n",
       "------------------------------------------------------------------------------------------\n",
       "carat                   1.015e+04     65.075    155.941      0.000       1e+04    1.03e+04\n",
       "color                    -16.6560      1.570    -10.611      0.000     -19.733     -13.579\n",
       "clarity                   -0.2447      2.188     -0.112      0.911      -4.534       4.044\n",
       "cut                       51.4787      6.229      8.264      0.000      39.268      63.690\n",
       "authentication          -318.2261     14.842    -21.441      0.000    -347.321    -289.131\n",
       "natural                  654.5001     33.585     19.488      0.000     588.663     720.337\n",
       "shape_cushion          -1734.6710    303.753     -5.711      0.000   -2330.113   -1139.229\n",
       "shape_cushion_modified -2428.4678    236.748    -10.258      0.000   -2892.560   -1964.375\n",
       "shape_emerald          -3158.1542    204.069    -15.476      0.000   -3558.187   -2758.121\n",
       "shape_heart            -1430.8768    196.728     -7.273      0.000   -1816.518   -1045.236\n",
       "shape_marquise          -792.9409    197.837     -4.008      0.000   -1180.757    -405.125\n",
       "shape_oval              -663.1314    165.068     -4.017      0.000    -986.710    -339.552\n",
       "shape_pear              -736.3712    165.648     -4.445      0.000   -1061.087    -411.656\n",
       "shape_princess          -347.4593    253.134     -1.373      0.170    -843.673     148.754\n",
       "shape_radiant          -2290.8284    191.410    -11.968      0.000   -2666.045   -1915.612\n",
       "shape_radient          -1.017e+04   3110.911     -3.268      0.001   -1.63e+04   -4068.391\n",
       "shape_round             -919.5092    248.771     -3.696      0.000   -1407.169    -431.849\n",
       "==============================================================================\n",
       "Omnibus:                     4529.114   Durbin-Watson:                   0.713\n",
       "Prob(Omnibus):                  0.000   Jarque-Bera (JB):           123768.890\n",
       "Skew:                           2.400   Prob(JB):                         0.00\n",
       "Kurtosis:                      22.285   Cond. No.                     8.60e+03\n",
       "==============================================================================\n",
       "\n",
       "Warnings:\n",
       "[1] Standard Errors assume that the covariance matrix of the errors is correctly specified.\n",
       "[2] The condition number is large, 8.6e+03. This might indicate that there are\n",
       "strong multicollinearity or other numerical problems.\n",
       "\"\"\""
      ]
     },
     "execution_count": 5,
     "metadata": {},
     "output_type": "execute_result"
    }
   ],
   "source": [
    "#OLS Model of target and features\n",
    "#summary of the OLS Model\n",
    "ols_model = sm.OLS(target,features).fit()\n",
    "ols_model.summary()"
   ]
  },
  {
   "cell_type": "code",
   "execution_count": 6,
   "metadata": {},
   "outputs": [
    {
     "data": {
      "text/plain": [
       "count     7521.000000\n",
       "mean      2863.097992\n",
       "std       6886.059480\n",
       "min        210.000000\n",
       "25%        630.000000\n",
       "50%       1000.000000\n",
       "75%       1940.000000\n",
       "max      50140.000000\n",
       "Name: price, dtype: float64"
      ]
     },
     "execution_count": 6,
     "metadata": {},
     "output_type": "execute_result"
    }
   ],
   "source": [
    "diamonds_no_color_cleaned.price.describe()"
   ]
  },
  {
   "cell_type": "code",
   "execution_count": 7,
   "metadata": {},
   "outputs": [
    {
     "data": {
      "text/plain": [
       "(7521, 18)"
      ]
     },
     "execution_count": 7,
     "metadata": {},
     "output_type": "execute_result"
    }
   ],
   "source": [
    "diamonds_no_color_cleaned.shape"
   ]
  },
  {
   "cell_type": "markdown",
   "metadata": {},
   "source": [
    "# Train Test Splitting"
   ]
  },
  {
   "cell_type": "code",
   "execution_count": 8,
   "metadata": {},
   "outputs": [],
   "source": [
    "#train test splitting data\n",
    "#80% for training\n",
    "#20% for testing\n",
    "X_train,X_test,y_train,y_test = train_test_split(features,target,test_size=0.2)\n",
    "scaler = MinMaxScaler()\n",
    "lr_model = LinearRegression()"
   ]
  },
  {
   "cell_type": "code",
   "execution_count": 9,
   "metadata": {
    "scrolled": false
   },
   "outputs": [
    {
     "data": {
      "text/plain": [
       "array([[0.03298969, 0.77777778, 0.14285714, ..., 0.        , 0.        ,\n",
       "        0.        ],\n",
       "       [0.15257732, 0.22222222, 0.57142857, ..., 0.        , 0.        ,\n",
       "        0.        ],\n",
       "       [0.09896907, 1.        , 0.57142857, ..., 0.        , 0.        ,\n",
       "        0.        ],\n",
       "       ...,\n",
       "       [0.11340206, 1.        , 0.57142857, ..., 0.        , 0.        ,\n",
       "        0.        ],\n",
       "       [0.01649485, 0.22222222, 0.42857143, ..., 0.        , 0.        ,\n",
       "        1.        ],\n",
       "       [0.38556701, 0.88888889, 0.57142857, ..., 0.        , 0.        ,\n",
       "        0.        ]])"
      ]
     },
     "execution_count": 9,
     "metadata": {},
     "output_type": "execute_result"
    }
   ],
   "source": [
    "#Scale data using min/max scaler\n",
    "X_train = scaler.fit_transform(X_train)\n",
    "X_train\n",
    "X_test = scaler.transform(X_test)\n",
    "X_test"
   ]
  },
  {
   "cell_type": "markdown",
   "metadata": {},
   "source": [
    "# Linear Model"
   ]
  },
  {
   "cell_type": "code",
   "execution_count": 10,
   "metadata": {},
   "outputs": [],
   "source": [
    "#fittin x/y training and testing values with linear model\n",
    "lr_diamond_model = lr_model.fit(X_train,y_train)\n",
    "lr_diamond_test_model = lr_model.fit(X_test,y_test)"
   ]
  },
  {
   "cell_type": "markdown",
   "metadata": {},
   "source": [
    "### Linear Model Training Result"
   ]
  },
  {
   "cell_type": "code",
   "execution_count": 11,
   "metadata": {},
   "outputs": [],
   "source": [
    "#RMSE and accuracy result from linearing model x/y training\n",
    "y_train_pred = lr_diamond_model.predict(X_train)\n",
    "lr_train_rmse = np.sqrt(metrics.mean_squared_error(y_train, y_train_pred))\n",
    "lr_training_accuracy = lr_diamond_model.score(X_train,y_train)"
   ]
  },
  {
   "cell_type": "code",
   "execution_count": 12,
   "metadata": {},
   "outputs": [
    {
     "name": "stdout",
     "output_type": "stream",
     "text": [
      "training RMSE score(lr model): 2444.2308991382642\n",
      "training accuracy(lr model): 0.8800604187110709\n"
     ]
    }
   ],
   "source": [
    "print(\"training RMSE score(lr model):\", lr_train_rmse)\n",
    "print(\"training accuracy(lr model):\", lr_training_accuracy)"
   ]
  },
  {
   "cell_type": "markdown",
   "metadata": {},
   "source": [
    "### Linear Model Test Result"
   ]
  },
  {
   "cell_type": "code",
   "execution_count": 13,
   "metadata": {},
   "outputs": [],
   "source": [
    "#RMSE and accuracy result from linearing model x/y testing\n",
    "y_test_pred = lr_diamond_test_model.predict(X_test)\n",
    "lr_test_rmse = np.sqrt(metrics.mean_squared_error(y_test, y_test_pred))\n",
    "lr_test_accuracy = lr_diamond_test_model.score(X_test,y_test)"
   ]
  },
  {
   "cell_type": "code",
   "execution_count": 14,
   "metadata": {
    "scrolled": false
   },
   "outputs": [
    {
     "name": "stdout",
     "output_type": "stream",
     "text": [
      "testing RMSE score(lr model): 2281.8816382715263\n",
      "testing accuracy(lr model): 0.8800604187110709\n"
     ]
    }
   ],
   "source": [
    "print(\"testing RMSE score(lr model):\", lr_test_rmse)\n",
    "print(\"testing accuracy(lr model):\", lr_training_accuracy)"
   ]
  },
  {
   "cell_type": "code",
   "execution_count": 43,
   "metadata": {},
   "outputs": [
    {
     "data": {
      "text/plain": [
       "0.39665284981028226"
      ]
     },
     "execution_count": 43,
     "metadata": {},
     "output_type": "execute_result"
    }
   ],
   "source": [
    "lr_test_rmse / y_test.std()"
   ]
  },
  {
   "cell_type": "code",
   "execution_count": 15,
   "metadata": {
    "collapsed": true
   },
   "outputs": [
    {
     "data": {
      "text/plain": [
       "<matplotlib.axes._subplots.AxesSubplot at 0x23cadaf5308>"
      ]
     },
     "execution_count": 15,
     "metadata": {},
     "output_type": "execute_result"
    },
    {
     "data": {
      "image/png": "[encoded data removed]",
      "text/plain": [
       "<Figure size 432x288 with 1 Axes>"
      ]
     },
     "metadata": {
      "needs_background": "light"
     },
     "output_type": "display_data"
    }
   ],
   "source": [
    "sns.regplot(y_test_pred, y_test, lowess=False, color=\"dodgerblue\")"
   ]
  },
  {
   "cell_type": "markdown",
   "metadata": {},
   "source": [
    "# Lasso Model"
   ]
  },
  {
   "cell_type": "code",
   "execution_count": 16,
   "metadata": {},
   "outputs": [],
   "source": [
    "#fitting x/y training and testing values with lasso model\n",
    "lasso = Lasso(normalize=False)\n",
    "training_lasso = lasso.fit(X_train, y_train)\n",
    "testing_lasso = lasso.fit(X_test, y_test)"
   ]
  },
  {
   "cell_type": "markdown",
   "metadata": {},
   "source": [
    "### Lasso training Result"
   ]
  },
  {
   "cell_type": "code",
   "execution_count": 17,
   "metadata": {},
   "outputs": [],
   "source": [
    "#RMSE and accuracy result from lasso model x/y training\n",
    "lasso_y_train_pred = training_lasso.predict(X_train)\n",
    "lasso_train_rmse = np.sqrt(metrics.mean_squared_error(y_train, lasso_y_train_pred))\n",
    "lasso_training_accuracy = training_lasso.score(X_train,y_train)"
   ]
  },
  {
   "cell_type": "code",
   "execution_count": 18,
   "metadata": {},
   "outputs": [
    {
     "name": "stdout",
     "output_type": "stream",
     "text": [
      "training RMSE score(lasso model): 2447.551767175459\n",
      "training accuracy(lasso model): 0.8797342841378635\n"
     ]
    }
   ],
   "source": [
    "print(\"training RMSE score(lasso model):\", lasso_train_rmse)\n",
    "print(\"training accuracy(lasso model):\", lasso_training_accuracy)"
   ]
  },
  {
   "cell_type": "markdown",
   "metadata": {},
   "source": [
    "### Lasso test Result"
   ]
  },
  {
   "cell_type": "code",
   "execution_count": 19,
   "metadata": {},
   "outputs": [],
   "source": [
    "#RMSE and accuracy result from lasso model x/y testing\n",
    "lasso_y_test_pred = testing_lasso.predict(X_test)\n",
    "lasso_test_rmse = np.sqrt(metrics.mean_squared_error(y_test, lasso_y_test_pred))\n",
    "lasso_testing_accuracy = testing_lasso.score(X_test,y_test)"
   ]
  },
  {
   "cell_type": "code",
   "execution_count": 20,
   "metadata": {},
   "outputs": [
    {
     "name": "stdout",
     "output_type": "stream",
     "text": [
      "testing RMSE score(lasso model): 2282.50477536322\n",
      "testing accuracy(lasso model): 0.8619126343938978\n"
     ]
    }
   ],
   "source": [
    "print(\"testing RMSE score(lasso model):\", lasso_test_rmse)\n",
    "print(\"testing accuracy(lasso model):\", lasso_testing_accuracy)"
   ]
  },
  {
   "cell_type": "code",
   "execution_count": 21,
   "metadata": {
    "scrolled": false
   },
   "outputs": [
    {
     "data": {
      "text/plain": [
       "<matplotlib.axes._subplots.AxesSubplot at 0x23cb3936708>"
      ]
     },
     "execution_count": 21,
     "metadata": {},
     "output_type": "execute_result"
    },
    {
     "data": {
      "image/png": "[encoded data removed]",
      "text/plain": [
       "<Figure size 432x288 with 1 Axes>"
      ]
     },
     "metadata": {
      "needs_background": "light"
     },
     "output_type": "display_data"
    }
   ],
   "source": [
    "sns.regplot(lasso_y_test_pred, y_test, lowess=False, color=\"tomato\")"
   ]
  },
  {
   "cell_type": "markdown",
   "metadata": {},
   "source": [
    "# Ridge Model"
   ]
  },
  {
   "cell_type": "code",
   "execution_count": 22,
   "metadata": {},
   "outputs": [],
   "source": [
    "#fitting x/y training and testing values with ridge model\n",
    "ridge = Ridge()\n",
    "ridge_train_model = ridge.fit(X_train,y_train)\n",
    "ridge_test_model = ridge.fit(X_test,y_test)"
   ]
  },
  {
   "cell_type": "markdown",
   "metadata": {},
   "source": [
    "### Ridge Training Result"
   ]
  },
  {
   "cell_type": "code",
   "execution_count": 23,
   "metadata": {},
   "outputs": [],
   "source": [
    "#RMSE and accuracy result from ridge model x/y training\n",
    "ridge_y_train_pred = ridge_train_model.predict(X_train)\n",
    "ridge_train_rmse = np.sqrt(metrics.mean_squared_error(y_train, ridge_y_train_pred))\n",
    "ridge_training_accuracy = ridge_train_model.score(X_train,y_train)"
   ]
  },
  {
   "cell_type": "code",
   "execution_count": 24,
   "metadata": {},
   "outputs": [
    {
     "name": "stdout",
     "output_type": "stream",
     "text": [
      "training RMSE score(Ridge model): 2512.8942741472233\n",
      "training accuracy(Ridge model): 0.8732270776048275\n"
     ]
    }
   ],
   "source": [
    "print(\"training RMSE score(Ridge model):\", ridge_train_rmse)\n",
    "print(\"training accuracy(Ridge model):\", ridge_training_accuracy)"
   ]
  },
  {
   "cell_type": "markdown",
   "metadata": {},
   "source": [
    "### Ridge Test Result"
   ]
  },
  {
   "cell_type": "code",
   "execution_count": 25,
   "metadata": {},
   "outputs": [],
   "source": [
    "#RMSE and accuracy result from ridge model x/y testing\n",
    "ridge_y_test_pred = ridge_test_model.predict(X_test)\n",
    "ridge_test_rmse = np.sqrt(metrics.mean_squared_error(y_test, ridge_y_test_pred))\n",
    "ridge_testing_accuracy = ridge_test_model.score(X_test,y_test)"
   ]
  },
  {
   "cell_type": "code",
   "execution_count": 26,
   "metadata": {},
   "outputs": [
    {
     "name": "stdout",
     "output_type": "stream",
     "text": [
      "testing RMSE score(Ridge model): 2282.50477536322\n",
      "testing accuracy(Ridge model): 0.8619126343938978\n"
     ]
    }
   ],
   "source": [
    "print(\"testing RMSE score(Ridge model):\", lasso_test_rmse)\n",
    "print(\"testing accuracy(Ridge model):\", lasso_testing_accuracy)"
   ]
  },
  {
   "cell_type": "code",
   "execution_count": 27,
   "metadata": {
    "scrolled": true
   },
   "outputs": [
    {
     "data": {
      "text/plain": [
       "<matplotlib.axes._subplots.AxesSubplot at 0x23cb39a3ec8>"
      ]
     },
     "execution_count": 27,
     "metadata": {},
     "output_type": "execute_result"
    },
    {
     "data": {
      "image/png": "[encoded data removed]",
      "text/plain": [
       "<Figure size 432x288 with 1 Axes>"
      ]
     },
     "metadata": {
      "needs_background": "light"
     },
     "output_type": "display_data"
    }
   ],
   "source": [
    "sns.regplot(ridge_y_test_pred, y_test, lowess=False, color=\"green\")"
   ]
  },
  {
   "cell_type": "markdown",
   "metadata": {},
   "source": [
    "# F-Test to see best features (not scaled)"
   ]
  },
  {
   "cell_type": "code",
   "execution_count": 28,
   "metadata": {},
   "outputs": [],
   "source": [
    "X_train,X_test,y_train,y_test = train_test_split(features,target,test_size=0.2)\n",
    "lr_model = LinearRegression()"
   ]
  },
  {
   "cell_type": "code",
   "execution_count": 29,
   "metadata": {},
   "outputs": [],
   "source": [
    "selector = SelectKBest(f_regression, k=10)\n",
    "selector.fit(X_train, y_train)\n",
    "selected_columns = X_train.columns[selector.get_support()]\n",
    "removed_columns = X_train.columns[~selector.get_support()]\n",
    "# X_train = X_train[selected_columns]\n",
    "# X_test = X_test[selected_columns]"
   ]
  },
  {
   "cell_type": "code",
   "execution_count": 30,
   "metadata": {},
   "outputs": [
    {
     "data": {
      "text/plain": [
       "['color',\n",
       " 'clarity',\n",
       " 'shape_cushion',\n",
       " 'shape_cushion_modified',\n",
       " 'shape_emerald',\n",
       " 'shape_heart',\n",
       " 'shape_radient']"
      ]
     },
     "execution_count": 30,
     "metadata": {},
     "output_type": "execute_result"
    }
   ],
   "source": [
    "#unused variables\n",
    "list(removed_columns)"
   ]
  },
  {
   "cell_type": "code",
   "execution_count": 31,
   "metadata": {},
   "outputs": [
    {
     "data": {
      "text/plain": [
       "['carat',\n",
       " 'cut',\n",
       " 'authentication',\n",
       " 'natural',\n",
       " 'shape_marquise',\n",
       " 'shape_oval',\n",
       " 'shape_pear',\n",
       " 'shape_princess',\n",
       " 'shape_radiant',\n",
       " 'shape_round']"
      ]
     },
     "execution_count": 31,
     "metadata": {},
     "output_type": "execute_result"
    }
   ],
   "source": [
    "#recommended features\n",
    "list(selected_columns)"
   ]
  },
  {
   "cell_type": "code",
   "execution_count": 32,
   "metadata": {},
   "outputs": [],
   "source": [
    "#assiging Target value and incorporating features did not use table percent because of high correlation between\n",
    "#table_percent and table_depth_ratio\n",
    "#replaced with next best recommended feature : shape pear\n",
    "target2 = diamonds_no_color_cleaned['price']\n",
    "features2 = diamonds_no_color_cleaned.drop(['price','color','clarity','shape_cushion','shape_cushion_modified','shape_emerald','shape_heart','shape_radient'],axis=1)"
   ]
  },
  {
   "cell_type": "code",
   "execution_count": 45,
   "metadata": {},
   "outputs": [
    {
     "data": {
      "text/html": [
       "<div>\n",
       "<style scoped>\n",
       "    .dataframe tbody tr th:only-of-type {\n",
       "        vertical-align: middle;\n",
       "    }\n",
       "\n",
       "    .dataframe tbody tr th {\n",
       "        vertical-align: top;\n",
       "    }\n",
       "\n",
       "    .dataframe thead th {\n",
       "        text-align: right;\n",
       "    }\n",
       "</style>\n",
       "<table border=\"1\" class=\"dataframe\">\n",
       "  <thead>\n",
       "    <tr style=\"text-align: right;\">\n",
       "      <th></th>\n",
       "      <th>carat</th>\n",
       "      <th>cut</th>\n",
       "      <th>authentication</th>\n",
       "      <th>natural</th>\n",
       "      <th>shape_marquise</th>\n",
       "      <th>shape_oval</th>\n",
       "      <th>shape_pear</th>\n",
       "      <th>shape_princess</th>\n",
       "      <th>shape_radiant</th>\n",
       "      <th>shape_round</th>\n",
       "    </tr>\n",
       "  </thead>\n",
       "  <tbody>\n",
       "    <tr>\n",
       "      <th>0</th>\n",
       "      <td>0.30</td>\n",
       "      <td>20</td>\n",
       "      <td>50</td>\n",
       "      <td>20</td>\n",
       "      <td>0</td>\n",
       "      <td>0</td>\n",
       "      <td>0</td>\n",
       "      <td>0</td>\n",
       "      <td>0</td>\n",
       "      <td>1</td>\n",
       "    </tr>\n",
       "    <tr>\n",
       "      <th>1</th>\n",
       "      <td>0.30</td>\n",
       "      <td>10</td>\n",
       "      <td>50</td>\n",
       "      <td>20</td>\n",
       "      <td>0</td>\n",
       "      <td>0</td>\n",
       "      <td>0</td>\n",
       "      <td>0</td>\n",
       "      <td>0</td>\n",
       "      <td>1</td>\n",
       "    </tr>\n",
       "    <tr>\n",
       "      <th>2</th>\n",
       "      <td>0.30</td>\n",
       "      <td>40</td>\n",
       "      <td>50</td>\n",
       "      <td>20</td>\n",
       "      <td>0</td>\n",
       "      <td>0</td>\n",
       "      <td>0</td>\n",
       "      <td>0</td>\n",
       "      <td>0</td>\n",
       "      <td>1</td>\n",
       "    </tr>\n",
       "    <tr>\n",
       "      <th>3</th>\n",
       "      <td>0.30</td>\n",
       "      <td>40</td>\n",
       "      <td>50</td>\n",
       "      <td>20</td>\n",
       "      <td>0</td>\n",
       "      <td>0</td>\n",
       "      <td>0</td>\n",
       "      <td>0</td>\n",
       "      <td>0</td>\n",
       "      <td>1</td>\n",
       "    </tr>\n",
       "    <tr>\n",
       "      <th>4</th>\n",
       "      <td>0.41</td>\n",
       "      <td>10</td>\n",
       "      <td>50</td>\n",
       "      <td>20</td>\n",
       "      <td>0</td>\n",
       "      <td>0</td>\n",
       "      <td>0</td>\n",
       "      <td>0</td>\n",
       "      <td>0</td>\n",
       "      <td>1</td>\n",
       "    </tr>\n",
       "    <tr>\n",
       "      <th>...</th>\n",
       "      <td>...</td>\n",
       "      <td>...</td>\n",
       "      <td>...</td>\n",
       "      <td>...</td>\n",
       "      <td>...</td>\n",
       "      <td>...</td>\n",
       "      <td>...</td>\n",
       "      <td>...</td>\n",
       "      <td>...</td>\n",
       "      <td>...</td>\n",
       "    </tr>\n",
       "    <tr>\n",
       "      <th>7516</th>\n",
       "      <td>3.22</td>\n",
       "      <td>40</td>\n",
       "      <td>50</td>\n",
       "      <td>20</td>\n",
       "      <td>0</td>\n",
       "      <td>0</td>\n",
       "      <td>0</td>\n",
       "      <td>0</td>\n",
       "      <td>0</td>\n",
       "      <td>1</td>\n",
       "    </tr>\n",
       "    <tr>\n",
       "      <th>7517</th>\n",
       "      <td>3.03</td>\n",
       "      <td>40</td>\n",
       "      <td>50</td>\n",
       "      <td>20</td>\n",
       "      <td>0</td>\n",
       "      <td>0</td>\n",
       "      <td>0</td>\n",
       "      <td>0</td>\n",
       "      <td>0</td>\n",
       "      <td>1</td>\n",
       "    </tr>\n",
       "    <tr>\n",
       "      <th>7518</th>\n",
       "      <td>3.50</td>\n",
       "      <td>40</td>\n",
       "      <td>50</td>\n",
       "      <td>20</td>\n",
       "      <td>0</td>\n",
       "      <td>0</td>\n",
       "      <td>0</td>\n",
       "      <td>0</td>\n",
       "      <td>0</td>\n",
       "      <td>1</td>\n",
       "    </tr>\n",
       "    <tr>\n",
       "      <th>7519</th>\n",
       "      <td>4.23</td>\n",
       "      <td>40</td>\n",
       "      <td>50</td>\n",
       "      <td>20</td>\n",
       "      <td>0</td>\n",
       "      <td>0</td>\n",
       "      <td>0</td>\n",
       "      <td>0</td>\n",
       "      <td>0</td>\n",
       "      <td>1</td>\n",
       "    </tr>\n",
       "    <tr>\n",
       "      <th>7520</th>\n",
       "      <td>3.01</td>\n",
       "      <td>40</td>\n",
       "      <td>50</td>\n",
       "      <td>20</td>\n",
       "      <td>0</td>\n",
       "      <td>0</td>\n",
       "      <td>0</td>\n",
       "      <td>0</td>\n",
       "      <td>0</td>\n",
       "      <td>1</td>\n",
       "    </tr>\n",
       "  </tbody>\n",
       "</table>\n",
       "<p>7521 rows × 10 columns</p>\n",
       "</div>"
      ],
      "text/plain": [
       "      carat  cut  authentication  natural  shape_marquise  shape_oval  \\\n",
       "0      0.30   20              50       20               0           0   \n",
       "1      0.30   10              50       20               0           0   \n",
       "2      0.30   40              50       20               0           0   \n",
       "3      0.30   40              50       20               0           0   \n",
       "4      0.41   10              50       20               0           0   \n",
       "...     ...  ...             ...      ...             ...         ...   \n",
       "7516   3.22   40              50       20               0           0   \n",
       "7517   3.03   40              50       20               0           0   \n",
       "7518   3.50   40              50       20               0           0   \n",
       "7519   4.23   40              50       20               0           0   \n",
       "7520   3.01   40              50       20               0           0   \n",
       "\n",
       "      shape_pear  shape_princess  shape_radiant  shape_round  \n",
       "0              0               0              0            1  \n",
       "1              0               0              0            1  \n",
       "2              0               0              0            1  \n",
       "3              0               0              0            1  \n",
       "4              0               0              0            1  \n",
       "...          ...             ...            ...          ...  \n",
       "7516           0               0              0            1  \n",
       "7517           0               0              0            1  \n",
       "7518           0               0              0            1  \n",
       "7519           0               0              0            1  \n",
       "7520           0               0              0            1  \n",
       "\n",
       "[7521 rows x 10 columns]"
      ]
     },
     "execution_count": 45,
     "metadata": {},
     "output_type": "execute_result"
    }
   ],
   "source": [
    "features2"
   ]
  },
  {
   "cell_type": "markdown",
   "metadata": {},
   "source": [
    "# Linear Test w/ F-Test Recommendation"
   ]
  },
  {
   "cell_type": "code",
   "execution_count": 33,
   "metadata": {},
   "outputs": [
    {
     "data": {
      "text/plain": [
       "array([[0.01446281, 0.4       , 1.        , ..., 1.        , 0.        ,\n",
       "        0.        ],\n",
       "       [0.06404959, 0.4       , 1.        , ..., 0.        , 0.        ,\n",
       "        0.        ],\n",
       "       [0.03512397, 0.4       , 1.        , ..., 0.        , 0.        ,\n",
       "        1.        ],\n",
       "       ...,\n",
       "       [0.16735537, 0.        , 0.        , ..., 0.        , 0.        ,\n",
       "        0.        ],\n",
       "       [0.11363636, 0.        , 1.        , ..., 0.        , 0.        ,\n",
       "        0.        ],\n",
       "       [0.09504132, 0.        , 1.        , ..., 0.        , 0.        ,\n",
       "        0.        ]])"
      ]
     },
     "execution_count": 33,
     "metadata": {},
     "output_type": "execute_result"
    }
   ],
   "source": [
    "#New Test based off F-Test recommendations\n",
    "X_train,X_test,y_train,y_test = train_test_split(features2,target2,test_size=0.2)\n",
    "lr_model = LinearRegression()\n",
    "#Scale data using min/max scaler\n",
    "X_train = scaler.fit_transform(X_train)\n",
    "X_train\n",
    "X_test = scaler.transform(X_test)\n",
    "X_test"
   ]
  },
  {
   "cell_type": "code",
   "execution_count": 34,
   "metadata": {},
   "outputs": [],
   "source": [
    "#fittin x/y training and testing values with linear model\n",
    "lr_diamond_model = lr_model.fit(X_train,y_train)\n",
    "lr_diamond_test_model = lr_model.fit(X_test,y_test)"
   ]
  },
  {
   "cell_type": "markdown",
   "metadata": {},
   "source": [
    "### Linear Test Result (Training) w/ Rec"
   ]
  },
  {
   "cell_type": "code",
   "execution_count": 35,
   "metadata": {},
   "outputs": [],
   "source": [
    "#RMSE and accuracy result from linearing model x/y training\n",
    "y_train_pred = lr_diamond_model.predict(X_train)\n",
    "lr_train_rmse = np.sqrt(metrics.mean_squared_error(y_train,y_train_pred))\n",
    "lr_training_accuracy = lr_diamond_model.score(X_train,y_train)"
   ]
  },
  {
   "cell_type": "code",
   "execution_count": 36,
   "metadata": {
    "scrolled": true
   },
   "outputs": [
    {
     "name": "stdout",
     "output_type": "stream",
     "text": [
      "training RMSE score(lr model): 2565.1746342434535\n",
      "training accuracy(lr model): 0.8593520127896338\n"
     ]
    }
   ],
   "source": [
    "print(\"training RMSE score(lr model):\", lr_train_rmse)\n",
    "print(\"training accuracy(lr model):\", lr_training_accuracy)"
   ]
  },
  {
   "cell_type": "markdown",
   "metadata": {},
   "source": [
    "### Linear Test Result (Testing) w/ Rec"
   ]
  },
  {
   "cell_type": "code",
   "execution_count": 37,
   "metadata": {},
   "outputs": [],
   "source": [
    "#RMSE and accuracy result from linearing model x/y testing\n",
    "y_test_pred = lr_diamond_test_model.predict(X_test)\n",
    "lr_test_rmse = np.sqrt(metrics.mean_squared_error(y_test, y_test_pred))\n",
    "lr_test_accuracy = lr_diamond_model.score(X_test,y_test)"
   ]
  },
  {
   "cell_type": "code",
   "execution_count": 38,
   "metadata": {},
   "outputs": [
    {
     "name": "stdout",
     "output_type": "stream",
     "text": [
      "testing RMSE score(lr model): 2803.401934519405\n",
      "testing accuracy(lr model): 0.8593520127896338\n"
     ]
    }
   ],
   "source": [
    "print(\"testing RMSE score(lr model):\", lr_test_rmse)\n",
    "print(\"testing accuracy(lr model):\", lr_training_accuracy)"
   ]
  },
  {
   "cell_type": "code",
   "execution_count": 39,
   "metadata": {},
   "outputs": [
    {
     "data": {
      "text/plain": [
       "<matplotlib.axes._subplots.AxesSubplot at 0x23cb78e0a48>"
      ]
     },
     "execution_count": 39,
     "metadata": {},
     "output_type": "execute_result"
    },
    {
     "data": {
      "image/png": "[encoded data removed]",
      "text/plain": [
       "<Figure size 432x288 with 1 Axes>"
      ]
     },
     "metadata": {
      "needs_background": "light"
     },
     "output_type": "display_data"
    }
   ],
   "source": [
    "sns.regplot(y_test_pred, y_test, lowess=False, color=\"dodgerblue\")"
   ]
  },
  {
   "cell_type": "code",
   "execution_count": 40,
   "metadata": {},
   "outputs": [
    {
     "data": {
      "text/html": [
       "<table class=\"simpletable\">\n",
       "<caption>OLS Regression Results</caption>\n",
       "<tr>\n",
       "  <th>Dep. Variable:</th>          <td>price</td>      <th>  R-squared (uncentered):</th>      <td>   0.814</td> \n",
       "</tr>\n",
       "<tr>\n",
       "  <th>Model:</th>                   <td>OLS</td>       <th>  Adj. R-squared (uncentered):</th> <td>   0.813</td> \n",
       "</tr>\n",
       "<tr>\n",
       "  <th>Method:</th>             <td>Least Squares</td>  <th>  F-statistic:       </th>          <td>   3279.</td> \n",
       "</tr>\n",
       "<tr>\n",
       "  <th>Date:</th>             <td>Fri, 08 May 2020</td> <th>  Prob (F-statistic):</th>           <td>  0.00</td>  \n",
       "</tr>\n",
       "<tr>\n",
       "  <th>Time:</th>                 <td>09:13:42</td>     <th>  Log-Likelihood:    </th>          <td> -71418.</td> \n",
       "</tr>\n",
       "<tr>\n",
       "  <th>No. Observations:</th>      <td>  7521</td>      <th>  AIC:               </th>          <td>1.429e+05</td>\n",
       "</tr>\n",
       "<tr>\n",
       "  <th>Df Residuals:</th>          <td>  7511</td>      <th>  BIC:               </th>          <td>1.429e+05</td>\n",
       "</tr>\n",
       "<tr>\n",
       "  <th>Df Model:</th>              <td>    10</td>      <th>                     </th>              <td> </td>    \n",
       "</tr>\n",
       "<tr>\n",
       "  <th>Covariance Type:</th>      <td>nonrobust</td>    <th>                     </th>              <td> </td>    \n",
       "</tr>\n",
       "</table>\n",
       "<table class=\"simpletable\">\n",
       "<tr>\n",
       "         <td></td>           <th>coef</th>     <th>std err</th>      <th>t</th>      <th>P>|t|</th>  <th>[0.025</th>    <th>0.975]</th>  \n",
       "</tr>\n",
       "<tr>\n",
       "  <th>carat</th>          <td> 9811.2437</td> <td>   64.790</td> <td>  151.432</td> <td> 0.000</td> <td> 9684.238</td> <td> 9938.249</td>\n",
       "</tr>\n",
       "<tr>\n",
       "  <th>cut</th>            <td>   30.0801</td> <td>    4.838</td> <td>    6.218</td> <td> 0.000</td> <td>   20.597</td> <td>   39.563</td>\n",
       "</tr>\n",
       "<tr>\n",
       "  <th>authentication</th> <td> -523.4033</td> <td>   12.272</td> <td>  -42.649</td> <td> 0.000</td> <td> -547.460</td> <td> -499.346</td>\n",
       "</tr>\n",
       "<tr>\n",
       "  <th>natural</th>        <td> 1051.4976</td> <td>   30.012</td> <td>   35.036</td> <td> 0.000</td> <td>  992.665</td> <td> 1110.330</td>\n",
       "</tr>\n",
       "<tr>\n",
       "  <th>shape_marquise</th> <td>  455.7346</td> <td>  172.302</td> <td>    2.645</td> <td> 0.008</td> <td>  117.975</td> <td>  793.494</td>\n",
       "</tr>\n",
       "<tr>\n",
       "  <th>shape_oval</th>     <td>  388.2697</td> <td>  128.319</td> <td>    3.026</td> <td> 0.002</td> <td>  136.728</td> <td>  639.812</td>\n",
       "</tr>\n",
       "<tr>\n",
       "  <th>shape_pear</th>     <td>  327.4271</td> <td>  128.257</td> <td>    2.553</td> <td> 0.011</td> <td>   76.008</td> <td>  578.846</td>\n",
       "</tr>\n",
       "<tr>\n",
       "  <th>shape_princess</th> <td> 1269.1772</td> <td>  190.522</td> <td>    6.662</td> <td> 0.000</td> <td>  895.701</td> <td> 1642.654</td>\n",
       "</tr>\n",
       "<tr>\n",
       "  <th>shape_radiant</th>  <td>-1089.3809</td> <td>  169.174</td> <td>   -6.439</td> <td> 0.000</td> <td>-1421.009</td> <td> -757.753</td>\n",
       "</tr>\n",
       "<tr>\n",
       "  <th>shape_round</th>    <td> 1181.9113</td> <td>  163.979</td> <td>    7.208</td> <td> 0.000</td> <td>  860.466</td> <td> 1503.357</td>\n",
       "</tr>\n",
       "</table>\n",
       "<table class=\"simpletable\">\n",
       "<tr>\n",
       "  <th>Omnibus:</th>       <td>4247.397</td> <th>  Durbin-Watson:     </th>  <td>   0.698</td> \n",
       "</tr>\n",
       "<tr>\n",
       "  <th>Prob(Omnibus):</th>  <td> 0.000</td>  <th>  Jarque-Bera (JB):  </th> <td>122125.578</td>\n",
       "</tr>\n",
       "<tr>\n",
       "  <th>Skew:</th>           <td> 2.169</td>  <th>  Prob(JB):          </th>  <td>    0.00</td> \n",
       "</tr>\n",
       "<tr>\n",
       "  <th>Kurtosis:</th>       <td>22.259</td>  <th>  Cond. No.          </th>  <td>    313.</td> \n",
       "</tr>\n",
       "</table><br/><br/>Warnings:<br/>[1] Standard Errors assume that the covariance matrix of the errors is correctly specified."
      ],
      "text/plain": [
       "<class 'statsmodels.iolib.summary.Summary'>\n",
       "\"\"\"\n",
       "                                 OLS Regression Results                                \n",
       "=======================================================================================\n",
       "Dep. Variable:                  price   R-squared (uncentered):                   0.814\n",
       "Model:                            OLS   Adj. R-squared (uncentered):              0.813\n",
       "Method:                 Least Squares   F-statistic:                              3279.\n",
       "Date:                Fri, 08 May 2020   Prob (F-statistic):                        0.00\n",
       "Time:                        09:13:42   Log-Likelihood:                         -71418.\n",
       "No. Observations:                7521   AIC:                                  1.429e+05\n",
       "Df Residuals:                    7511   BIC:                                  1.429e+05\n",
       "Df Model:                          10                                                  \n",
       "Covariance Type:            nonrobust                                                  \n",
       "==================================================================================\n",
       "                     coef    std err          t      P>|t|      [0.025      0.975]\n",
       "----------------------------------------------------------------------------------\n",
       "carat           9811.2437     64.790    151.432      0.000    9684.238    9938.249\n",
       "cut               30.0801      4.838      6.218      0.000      20.597      39.563\n",
       "authentication  -523.4033     12.272    -42.649      0.000    -547.460    -499.346\n",
       "natural         1051.4976     30.012     35.036      0.000     992.665    1110.330\n",
       "shape_marquise   455.7346    172.302      2.645      0.008     117.975     793.494\n",
       "shape_oval       388.2697    128.319      3.026      0.002     136.728     639.812\n",
       "shape_pear       327.4271    128.257      2.553      0.011      76.008     578.846\n",
       "shape_princess  1269.1772    190.522      6.662      0.000     895.701    1642.654\n",
       "shape_radiant  -1089.3809    169.174     -6.439      0.000   -1421.009    -757.753\n",
       "shape_round     1181.9113    163.979      7.208      0.000     860.466    1503.357\n",
       "==============================================================================\n",
       "Omnibus:                     4247.397   Durbin-Watson:                   0.698\n",
       "Prob(Omnibus):                  0.000   Jarque-Bera (JB):           122125.578\n",
       "Skew:                           2.169   Prob(JB):                         0.00\n",
       "Kurtosis:                      22.259   Cond. No.                         313.\n",
       "==============================================================================\n",
       "\n",
       "Warnings:\n",
       "[1] Standard Errors assume that the covariance matrix of the errors is correctly specified.\n",
       "\"\"\""
      ]
     },
     "execution_count": 40,
     "metadata": {},
     "output_type": "execute_result"
    }
   ],
   "source": [
    "ols_model = sm.OLS(target2,features2).fit()\n",
    "ols_model.summary()"
   ]
  },
  {
   "cell_type": "code",
   "execution_count": null,
   "metadata": {},
   "outputs": [],
   "source": []
  }
 ],
 "metadata": {
  "kernelspec": {
   "display_name": "Python 3",
   "language": "python",
   "name": "python3"
  },
  "language_info": {
   "codemirror_mode": {
    "name": "ipython",
    "version": 3
   },
   "file_extension": ".py",
   "mimetype": "text/x-python",
   "name": "python",
   "nbconvert_exporter": "python",
   "pygments_lexer": "ipython3",
   "version": "3.7.6"
  }
 },
 "nbformat": 4,
 "nbformat_minor": 4
}
